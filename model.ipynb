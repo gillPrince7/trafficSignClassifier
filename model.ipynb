{
 "cells": [
  {
   "cell_type": "code",
   "execution_count": 1,
   "id": "00f91969",
   "metadata": {},
   "outputs": [
    {
     "name": "stderr",
     "output_type": "stream",
     "text": [
      "C:\\Users\\gillp\\AppData\\Local\\Temp\\ipykernel_14684\\1888475942.py:7: DeprecationWarning: 'imghdr' is deprecated and slated for removal in Python 3.13\n",
      "  import imghdr\n"
     ]
    }
   ],
   "source": [
    "import pandas as pd\n",
    "import numpy as np \n",
    "import cv2\n",
    "import matplotlib\n",
    "from matplotlib import pyplot as plt\n",
    "%matplotlib inline\n",
    "import imghdr\n",
    "import os\n",
    "import tensorflow as tf\n",
    "import tensorflow_hub as hub\n",
    "from sklearn.metrics import confusion_matrix, classification_report\n",
    "\n",
    "import seaborn as sns"
   ]
  },
  {
   "cell_type": "code",
   "execution_count": 2,
   "id": "b1eb0818",
   "metadata": {},
   "outputs": [
    {
     "name": "stdout",
     "output_type": "stream",
     "text": [
      "D:\\Project\\TrafficSign\\image data\\do not enter(1)Capture-décran-2023-02-09-à-09.26.05.png does not exist\n",
      "D:\\Project\\TrafficSign\\image data\\do not enter(1)p616-no-entry.jpg does not exist\n",
      "D:\\Project\\TrafficSign\\image data\\Pedestrian crossing sign(4)Panneau-de-signalisation-à-DEL-pour-passage-piétons-et-écoliers-P-270-Trafic-Innovation.jpg does not exist\n"
     ]
    }
   ],
   "source": [
    "\n",
    "# Set the path to the folder containing the images\n",
    "path_to_folder = 'D:\\\\Project\\\\TrafficSign\\\\image data'\n",
    "\n",
    "# Create an empty list to store the images\n",
    "X = []\n",
    "y = []\n",
    "pred_class = []\n",
    "count = 0\n",
    "\n",
    "\n",
    "for foldername in os.listdir(path_to_folder):\n",
    "      \n",
    "        path_to_sub_folder = 'D:\\\\Project\\\\TrafficSign\\\\image data\\\\'+str(foldername)\n",
    "# Loop over all the files in the folder\n",
    "        \n",
    "        \n",
    "        \n",
    "        for filename in os.listdir(path_to_sub_folder):\n",
    "            # Check if the file is an image        \n",
    "  \n",
    "            if filename.endswith('.jpg') or filename.endswith('.png') or filename.endswith('.jpeg'):\n",
    "                # Load the image using OpenCV\n",
    "                try:\n",
    "\n",
    "                        img = cv2.imread(os.path.join(path_to_sub_folder, filename),cv2.IMREAD_GRAYSCALE)\n",
    "                        resized_img = cv2.resize(img, (224, 224), interpolation=cv2.INTER_AREA)\n",
    "                        normalized_img = resized_img / 255.0\n",
    "\n",
    "                        # Add the image to the list\n",
    "                        X.append(normalized_img)\n",
    "                        y.append(count)\n",
    "                        \n",
    "\n",
    "\n",
    "                except:       \n",
    "\n",
    "                        image_path = str(path_to_sub_folder)+str(filename)\n",
    "\n",
    "                        if os.path.exists(image_path):\n",
    "                                os.remove(image_path)\n",
    "                                print(f\"Deleted {image_path}\")\n",
    "                        else:\n",
    "                                print(f\"{image_path} does not exist\")\n",
    "                                \n",
    "                                \n",
    "        pred_class.append(foldername)         \n",
    "        count = count + 1"
   ]
  },
  {
   "cell_type": "code",
   "execution_count": 3,
   "id": "7eab91a1",
   "metadata": {},
   "outputs": [
    {
     "data": {
      "text/plain": [
       "10"
      ]
     },
     "execution_count": 3,
     "metadata": {},
     "output_type": "execute_result"
    }
   ],
   "source": [
    "len(pred_class)"
   ]
  },
  {
   "cell_type": "code",
   "execution_count": 4,
   "metadata": {},
   "outputs": [
    {
     "data": {
      "text/plain": [
       "['Construction zone sign(0)',\n",
       " 'do not enter(1)',\n",
       " 'No passing zone sign(2)',\n",
       " 'One way sign(3)',\n",
       " 'Pedestrian crossing sign(4)',\n",
       " 'railway crossing sign(5)',\n",
       " 'School zone(6)',\n",
       " 'Speed limit sign(7)',\n",
       " 'stop photos(8)',\n",
       " 'yield sign(9)']"
      ]
     },
     "execution_count": 4,
     "metadata": {},
     "output_type": "execute_result"
    }
   ],
   "source": [
    "pred_class"
   ]
  },
  {
   "cell_type": "code",
   "execution_count": 5,
   "id": "cd56e92f",
   "metadata": {},
   "outputs": [
    {
     "data": {
      "text/html": [
       "<div>\n",
       "<style scoped>\n",
       "    .dataframe tbody tr th:only-of-type {\n",
       "        vertical-align: middle;\n",
       "    }\n",
       "\n",
       "    .dataframe tbody tr th {\n",
       "        vertical-align: top;\n",
       "    }\n",
       "\n",
       "    .dataframe thead th {\n",
       "        text-align: right;\n",
       "    }\n",
       "</style>\n",
       "<table border=\"1\" class=\"dataframe\">\n",
       "  <thead>\n",
       "    <tr style=\"text-align: right;\">\n",
       "      <th></th>\n",
       "      <th>y</th>\n",
       "    </tr>\n",
       "  </thead>\n",
       "  <tbody>\n",
       "    <tr>\n",
       "      <th>0</th>\n",
       "      <td>0</td>\n",
       "    </tr>\n",
       "    <tr>\n",
       "      <th>1</th>\n",
       "      <td>0</td>\n",
       "    </tr>\n",
       "    <tr>\n",
       "      <th>2</th>\n",
       "      <td>0</td>\n",
       "    </tr>\n",
       "    <tr>\n",
       "      <th>3</th>\n",
       "      <td>0</td>\n",
       "    </tr>\n",
       "    <tr>\n",
       "      <th>4</th>\n",
       "      <td>0</td>\n",
       "    </tr>\n",
       "  </tbody>\n",
       "</table>\n",
       "</div>"
      ],
      "text/plain": [
       "   y\n",
       "0  0\n",
       "1  0\n",
       "2  0\n",
       "3  0\n",
       "4  0"
      ]
     },
     "execution_count": 5,
     "metadata": {},
     "output_type": "execute_result"
    }
   ],
   "source": [
    "df = pd.DataFrame(y, columns=[\"y\"])  # You can specify column names\n",
    "\n",
    "# Display the DataFrame\n",
    "df.head()"
   ]
  },
  {
   "cell_type": "code",
   "execution_count": 9,
   "metadata": {},
   "outputs": [
    {
     "name": "stdout",
     "output_type": "stream",
     "text": [
      "y\n",
      "1    775\n",
      "3    774\n",
      "0    723\n",
      "6    598\n",
      "4    563\n",
      "8    409\n",
      "7    365\n",
      "2    362\n",
      "5    259\n",
      "9    105\n",
      "Name: count, dtype: int64\n"
     ]
    }
   ],
   "source": [
    "class_counts = df['y'].value_counts()\n",
    "print(class_counts)\n",
    "\n"
   ]
  },
  {
   "cell_type": "code",
   "execution_count": 10,
   "id": "dc63e35a",
   "metadata": {},
   "outputs": [
    {
     "data": {
      "image/png": "[encoded data removed]",
      "text/plain": [
       "<Figure size 640x480 with 1 Axes>"
      ]
     },
     "metadata": {},
     "output_type": "display_data"
    }
   ],
   "source": [
    "sns.set(style=\"whitegrid\")  # Set the plot style\n",
    "\n",
    "# Create a countplot\n",
    "sns.countplot(data=df, x='y')\n",
    "\n",
    "# Add labels and a title\n",
    "plt.xlabel('Class')\n",
    "plt.ylabel('Count')\n",
    "plt.title('Class Distribution')\n",
    "\n",
    "# Show the plot\n",
    "plt.show()\n",
    "\n"
   ]
  },
  {
   "cell_type": "code",
   "execution_count": 11,
   "id": "a3c885d3",
   "metadata": {},
   "outputs": [],
   "source": [
    "from tensorflow.keras.utils import to_categorical\n",
    "\n",
    "y_train_encoded = to_categorical(y,10)\n"
   ]
  },
  {
   "cell_type": "code",
   "execution_count": 12,
   "metadata": {},
   "outputs": [
    {
     "data": {
      "text/plain": [
       "array([[0.00784314, 0.00784314, 0.        , ..., 0.90196078, 0.58039216,\n",
       "        0.63137255],\n",
       "       [0.00392157, 0.00784314, 0.00392157, ..., 0.90588235, 0.66666667,\n",
       "        0.55294118],\n",
       "       [0.00392157, 0.00392157, 0.00392157, ..., 0.89019608, 0.75686275,\n",
       "        0.51372549],\n",
       "       ...,\n",
       "       [0.5254902 , 0.46666667, 0.51764706, ..., 0.07058824, 0.07058824,\n",
       "        0.0745098 ],\n",
       "       [0.5254902 , 0.43529412, 0.45882353, ..., 0.07843137, 0.03921569,\n",
       "        0.00392157],\n",
       "       [0.50588235, 0.44705882, 0.49019608, ..., 0.08235294, 0.02745098,\n",
       "        0.03137255]])"
      ]
     },
     "execution_count": 12,
     "metadata": {},
     "output_type": "execute_result"
    }
   ],
   "source": [
    "X[0]"
   ]
  },
  {
   "cell_type": "code",
   "execution_count": 13,
   "id": "b6c51e20",
   "metadata": {},
   "outputs": [
    {
     "data": {
      "text/plain": [
       "(4933, 10)"
      ]
     },
     "execution_count": 13,
     "metadata": {},
     "output_type": "execute_result"
    }
   ],
   "source": [
    "y_train_encoded.shape"
   ]
  },
  {
   "cell_type": "code",
   "execution_count": 14,
   "id": "8eee542f",
   "metadata": {},
   "outputs": [
    {
     "data": {
      "text/plain": [
       "array([1., 0., 0., 0., 0., 0., 0., 0., 0., 0.], dtype=float32)"
      ]
     },
     "execution_count": 14,
     "metadata": {},
     "output_type": "execute_result"
    }
   ],
   "source": [
    "y_train_encoded[0]"
   ]
  },
  {
   "cell_type": "code",
   "execution_count": 15,
   "id": "45d5f0e3",
   "metadata": {},
   "outputs": [
    {
     "data": {
      "text/plain": [
       "4933"
      ]
     },
     "execution_count": 15,
     "metadata": {},
     "output_type": "execute_result"
    }
   ],
   "source": [
    "len(X)"
   ]
  },
  {
   "cell_type": "code",
   "execution_count": 16,
   "id": "c2e20882",
   "metadata": {},
   "outputs": [],
   "source": [
    "y_arr = np.array(y_train_encoded)\n",
    "X_arr = np.array(X)"
   ]
  },
  {
   "cell_type": "code",
   "execution_count": 17,
   "id": "c8fedd06",
   "metadata": {},
   "outputs": [],
   "source": [
    "from sklearn.model_selection import train_test_split"
   ]
  },
  {
   "cell_type": "code",
   "execution_count": 18,
   "id": "752f7a9e",
   "metadata": {},
   "outputs": [],
   "source": [
    "X_train, X_test, y_train, y_test = train_test_split(X_arr, y_arr, test_size=0.2, random_state=4)\n",
    "X_train, X_val, y_train, y_val = train_test_split(X_train, y_train, test_size=0.2, random_state=4)"
   ]
  },
  {
   "cell_type": "code",
   "execution_count": 19,
   "id": "081a0767",
   "metadata": {},
   "outputs": [
    {
     "data": {
      "text/plain": [
       "(3156, 10)"
      ]
     },
     "execution_count": 19,
     "metadata": {},
     "output_type": "execute_result"
    }
   ],
   "source": [
    "y_train.shape"
   ]
  },
  {
   "cell_type": "code",
   "execution_count": 20,
   "id": "556bbcf3",
   "metadata": {},
   "outputs": [],
   "source": [
    "def plot_sample(X, y, index):\n",
    "    plt.figure(figsize = (15,2))\n",
    "    plt.imshow(X[index])\n",
    "    plt.xlabel([y[index]])"
   ]
  },
  {
   "cell_type": "code",
   "execution_count": 21,
   "id": "b82acbe5",
   "metadata": {},
   "outputs": [
    {
     "name": "stdout",
     "output_type": "stream",
     "text": [
      "Pedestrian crossing sign(4)\n",
      "(987, 224, 224)\n"
     ]
    },
    {
     "data": {
      "image/png": "[encoded data removed]",
      "text/plain": [
       "<Figure size 1500x200 with 1 Axes>"
      ]
     },
     "metadata": {},
     "output_type": "display_data"
    }
   ],
   "source": [
    "plot_sample(X_test, y_test,5)\n",
    "position = np.argmax(y_test[5])\n",
    "print(pred_class[position])\n",
    "print(X_test.shape)"
   ]
  },
  {
   "cell_type": "markdown",
   "id": "3b90eed4",
   "metadata": {},
   "source": [
    "# Transfer learning"
   ]
  },
  {
   "cell_type": "code",
   "execution_count": 37,
   "id": "2432ce11",
   "metadata": {},
   "outputs": [],
   "source": [
    "import tensorflow as tf\n",
    "from tensorflow.keras.applications import MobileNetV2\n",
    "from tensorflow.keras.layers import Dense, GlobalAveragePooling2D\n",
    "from tensorflow.keras.models import Model\n",
    "from keras.preprocessing import image\n",
    "from keras.applications.vgg16 import VGG16, preprocess_input, decode_predictions\n",
    "import numpy as np\n",
    "from tensorflow.keras.applications import MobileNetV2\n",
    "from tensorflow.keras.layers import Input, Concatenate\n",
    "from keras import layers\n",
    "\n",
    "from tensorflow.keras import layers\n",
    "from tensorflow_hub import KerasLayer"
   ]
  },
  {
   "cell_type": "code",
   "execution_count": 45,
   "metadata": {},
   "outputs": [],
   "source": [
    "\n",
    "base_model = MobileNetV2(weights='imagenet', include_top=False, input_shape=(224, 224, 3))\n",
    "\n",
    "for layer in base_model.layers:\n",
    "    layer.trainable = False\n",
    "\n",
    "\n",
    "\n",
    "# Define the input shape for your grayscale image\n",
    "input_shape = (224, 224, 1)\n",
    "\n",
    "# Create an Input layer for your model with the specified input shape\n",
    "model_input =  tf.keras.layers.Input(shape=input_shape)\n",
    "\n",
    "# Concatenate the single-channel input three times to create a three-channel image\n",
    "x = tf.keras.layers.Concatenate(axis=-1)([model_input, model_input, model_input])\n",
    "\n",
    "# Pass the concatenated image through the MobileNetV2 model\n",
    "output = base_model(x)\n"
   ]
  },
  {
   "cell_type": "code",
   "execution_count": 46,
   "metadata": {},
   "outputs": [
    {
     "name": "stdout",
     "output_type": "stream",
     "text": [
      "Model: \"model_1\"\n",
      "__________________________________________________________________________________________________\n",
      " Layer (type)                Output Shape                 Param #   Connected to                  \n",
      "==================================================================================================\n",
      " input_17 (InputLayer)       [(None, 224, 224, 1)]        0         []                            \n",
      "                                                                                                  \n",
      " concatenate_1 (Concatenate  (None, 224, 224, 3)          0         ['input_17[0][0]',            \n",
      " )                                                                   'input_17[0][0]',            \n",
      "                                                                     'input_17[0][0]']            \n",
      "                                                                                                  \n",
      " mobilenetv2_1.00_224 (Func  (None, 7, 7, 1280)           2257984   ['concatenate_1[0][0]']       \n",
      " tional)                                                                                          \n",
      "                                                                                                  \n",
      " global_average_pooling2d_1  (None, 1280)                 0         ['mobilenetv2_1.00_224[0][0]']\n",
      "  (GlobalAveragePooling2D)                                                                        \n",
      "                                                                                                  \n",
      " dense_3 (Dense)             (None, 128)                  163968    ['global_average_pooling2d_1[0\n",
      "                                                                    ][0]']                        \n",
      "                                                                                                  \n",
      " dense_4 (Dense)             (None, 64)                   8256      ['dense_3[0][0]']             \n",
      "                                                                                                  \n",
      " dense_5 (Dense)             (None, 10)                   650       ['dense_4[0][0]']             \n",
      "                                                                                                  \n",
      "==================================================================================================\n",
      "Total params: 2430858 (9.27 MB)\n",
      "Trainable params: 172874 (675.29 KB)\n",
      "Non-trainable params: 2257984 (8.61 MB)\n",
      "__________________________________________________________________________________________________\n"
     ]
    }
   ],
   "source": [
    "x = GlobalAveragePooling2D()(output)\n",
    "\n",
    "# Dense layers for classification\n",
    "x = Dense(128, activation='relu')(x)\n",
    "x = Dense(64, activation='relu')(x)\n",
    "\n",
    "# Output layer with the number of units equal to the number of classes in your task\n",
    "# Assuming binary classification for illustration purposes\n",
    "num_classes = 10\n",
    "predictions = Dense(num_classes, activation='softmax')(x)\n",
    "\n",
    "# Create the final model\n",
    "model = Model(inputs=model_input, outputs=predictions)\n",
    "\n",
    "# Compile the model\n",
    "model.compile(optimizer='adam', loss='categorical_crossentropy', metrics=['accuracy'])\n",
    "\n",
    "# Display the model summary\n",
    "model.summary()"
   ]
  },
  {
   "cell_type": "code",
   "execution_count": null,
   "metadata": {},
   "outputs": [],
   "source": []
  },
  {
   "cell_type": "markdown",
   "id": "a7cd3216",
   "metadata": {},
   "source": [
    "base_model = MobileNetV2(weights='imagenet', include_top=False, input_shape=(224, 224,1))\n",
    "\n",
    "# Add custom output layer for your specific task\n",
    "num_classes = 10  # Calculate the number of classes from y_train\n",
    "x = base_model.output\n",
    "x = GlobalAveragePooling2D()(x)\n",
    "x = Dense(1024, activation='relu')(x)\n",
    "predictions = Dense(num_classes, activation='softmax')(x)\n",
    "\n",
    "# Create the custom model\n",
    "custom_model = Model(inputs=base_model.input, outputs=predictions)\n",
    "\n",
    "# Optional: Fine-tuning (unfreeze some layers)\n",
    "for layer in base_model.layers:\n",
    "    layer.trainable = False\n",
    "\n",
    "\n",
    "\n",
    "# Compile the model\n",
    "custom_model.compile(optimizer='adam', loss='categorical_crossentropy', metrics=['accuracy'])"
   ]
  },
  {
   "cell_type": "code",
   "execution_count": 48,
   "id": "9bca76cb",
   "metadata": {},
   "outputs": [
    {
     "name": "stdout",
     "output_type": "stream",
     "text": [
      "Epoch 1/10\n",
      "WARNING:tensorflow:AutoGraph could not transform <function Model.make_train_function.<locals>.train_function at 0x000001D785CCCFE0> and will run it as-is.\n",
      "Please report this to the TensorFlow team. When filing the bug, set the verbosity to 10 (on Linux, `export AUTOGRAPH_VERBOSITY=10`) and attach the full output.\n",
      "Cause: closure mismatch, requested ('self', 'step_function'), but source function had ()\n",
      "To silence this warning, decorate the function with @tf.autograph.experimental.do_not_convert\n",
      "WARNING: AutoGraph could not transform <function Model.make_train_function.<locals>.train_function at 0x000001D785CCCFE0> and will run it as-is.\n",
      "Please report this to the TensorFlow team. When filing the bug, set the verbosity to 10 (on Linux, `export AUTOGRAPH_VERBOSITY=10`) and attach the full output.\n",
      "Cause: closure mismatch, requested ('self', 'step_function'), but source function had ()\n",
      "To silence this warning, decorate the function with @tf.autograph.experimental.do_not_convert\n",
      "99/99 [==============================] - ETA: 0s - loss: 1.3783 - accuracy: 0.5482WARNING:tensorflow:AutoGraph could not transform <function Model.make_test_function.<locals>.test_function at 0x000001D7835F87C0> and will run it as-is.\n",
      "Please report this to the TensorFlow team. When filing the bug, set the verbosity to 10 (on Linux, `export AUTOGRAPH_VERBOSITY=10`) and attach the full output.\n",
      "Cause: closure mismatch, requested ('self', 'step_function'), but source function had ()\n",
      "To silence this warning, decorate the function with @tf.autograph.experimental.do_not_convert\n",
      "WARNING: AutoGraph could not transform <function Model.make_test_function.<locals>.test_function at 0x000001D7835F87C0> and will run it as-is.\n",
      "Please report this to the TensorFlow team. When filing the bug, set the verbosity to 10 (on Linux, `export AUTOGRAPH_VERBOSITY=10`) and attach the full output.\n",
      "Cause: closure mismatch, requested ('self', 'step_function'), but source function had ()\n",
      "To silence this warning, decorate the function with @tf.autograph.experimental.do_not_convert\n",
      "99/99 [==============================] - 77s 702ms/step - loss: 1.3783 - accuracy: 0.5482 - val_loss: 1.1215 - val_accuracy: 0.6354\n",
      "Epoch 2/10\n",
      "99/99 [==============================] - 77s 775ms/step - loss: 0.7296 - accuracy: 0.7677 - val_loss: 0.8539 - val_accuracy: 0.7215\n",
      "Epoch 3/10\n",
      "99/99 [==============================] - 75s 758ms/step - loss: 0.5025 - accuracy: 0.8397 - val_loss: 0.8689 - val_accuracy: 0.7291\n",
      "Epoch 4/10\n",
      "99/99 [==============================] - 76s 765ms/step - loss: 0.3514 - accuracy: 0.8954 - val_loss: 0.7967 - val_accuracy: 0.7481\n",
      "Epoch 5/10\n",
      "99/99 [==============================] - 76s 771ms/step - loss: 0.2585 - accuracy: 0.9227 - val_loss: 0.8538 - val_accuracy: 0.7380\n",
      "Epoch 6/10\n",
      "99/99 [==============================] - 75s 758ms/step - loss: 0.1884 - accuracy: 0.9477 - val_loss: 0.7769 - val_accuracy: 0.7595\n",
      "Epoch 7/10\n",
      "99/99 [==============================] - 75s 762ms/step - loss: 0.1278 - accuracy: 0.9651 - val_loss: 0.9126 - val_accuracy: 0.7304\n",
      "Epoch 8/10\n",
      "99/99 [==============================] - 75s 762ms/step - loss: 0.1061 - accuracy: 0.9721 - val_loss: 0.8195 - val_accuracy: 0.7785\n",
      "Epoch 9/10\n",
      "99/99 [==============================] - 77s 781ms/step - loss: 0.0610 - accuracy: 0.9880 - val_loss: 0.8619 - val_accuracy: 0.7734\n",
      "Epoch 10/10\n",
      "99/99 [==============================] - 76s 773ms/step - loss: 0.0378 - accuracy: 0.9962 - val_loss: 0.8828 - val_accuracy: 0.7797\n",
      "31/31 [==============================] - 18s 582ms/step - loss: 0.8590 - accuracy: 0.7903\n",
      "Test accuracy: 79.03%\n"
     ]
    }
   ],
   "source": [
    "\n",
    "\n",
    "# Train the model on your custom data\n",
    "epochs = 10  # Adjust as needed\n",
    "history = model.fit(\n",
    "    X_train,\n",
    "    y_train,\n",
    "    validation_data=(X_val, y_val),\n",
    "    epochs=epochs\n",
    ")\n",
    "\n",
    "# Evaluate the model on the test data\n",
    "test_loss, test_accuracy = model.evaluate(X_test, y_test)\n",
    "print(f'Test accuracy: {test_accuracy * 100:.2f}%')\n"
   ]
  },
  {
   "cell_type": "code",
   "execution_count": 59,
   "metadata": {},
   "outputs": [
    {
     "name": "stdout",
     "output_type": "stream",
     "text": [
      "31/31 [==============================] - 17s 538ms/step\n",
      "\n",
      "Confusion Matrix (Multiclass Classification):\n",
      "[[105   2   1   2  15   2   9   2   2   1]\n",
      " [  0 148   0   6   2   1   1   6   4   0]\n",
      " [  0   3  48   7   0   1   5   1   0   0]\n",
      " [  0  10   0 144  11   0   4   6   2   0]\n",
      " [  4   1   0   0  78   2  12   1   1   0]\n",
      " [  0   0   0   1   3  27   6   2   2   1]\n",
      " [  4   1   0   2   7   1  97   4   2   0]\n",
      " [  0   2   5   6   1   2   5  50   2   0]\n",
      " [  2   1   0   3   0   1   4   3  65   0]\n",
      " [  1   0   1   1   1   1   1   0   1  18]]\n",
      "Micro-average F1 Score (Multiclass Classification): 0.790273556231003\n",
      "Macro-average F1 Score (Multiclass Classification): 0.7745815603393382\n"
     ]
    }
   ],
   "source": [
    "import numpy as np\n",
    "from sklearn.metrics import confusion_matrix, f1_score\n",
    "\n",
    "# Assuming you have the model and X_test, y_test\n",
    "y_pred_probs = model.predict(X_test)\n",
    "y_pred_multiclass = np.argmax(y_pred_probs, axis=1)  # Get the predicted class labels\n",
    "\n",
    "# Ensure y_test is a 1D array\n",
    "y_test = np.argmax(y_test, axis=1)  # Assuming y_test is one-hot encoded\n",
    "\n",
    "# Compute confusion matrix for multiclass classification\n",
    "conf_matrix_multiclass = confusion_matrix(y_test, y_pred_multiclass)\n",
    "print(\"\\nConfusion Matrix (Multiclass Classification):\")\n",
    "print(conf_matrix_multiclass)\n",
    "\n",
    "# Compute micro-average F1 score for multiclass classification\n",
    "f1_micro = f1_score(y_test, y_pred_multiclass, average='micro')\n",
    "print(\"Micro-average F1 Score (Multiclass Classification):\", f1_micro)\n",
    "\n",
    "# Compute macro-average F1 score for multiclass classification\n",
    "f1_macro = f1_score(y_test, y_pred_multiclass, average='macro')\n",
    "print(\"Macro-average F1 Score (Multiclass Classification):\", f1_macro)\n"
   ]
  },
  {
   "cell_type": "code",
   "execution_count": 62,
   "id": "a95da3dc",
   "metadata": {},
   "outputs": [],
   "source": [
    "model.save(r'D:\\\\Project\\\\TrafficSign\\\\Models\\\\my_model1.keras')"
   ]
  },
  {
   "cell_type": "code",
   "execution_count": 52,
   "id": "967b1aaa",
   "metadata": {},
   "outputs": [
    {
     "name": "stdout",
     "output_type": "stream",
     "text": [
      "1/1 [==============================] - 1s 1s/step\n"
     ]
    }
   ],
   "source": [
    "img = plt.imread('1.jpg')\n",
    "img = cv2.resize(img, (224, 224))\n",
    "img = np.array(img)\n",
    "img = img / 255.0\n",
    "img = img.reshape((1, img.shape[0], img.shape[1], img.shape[2]))\n",
    "\n",
    "# Predict the class of the test image\n",
    "predictions = model.predict(img)"
   ]
  },
  {
   "cell_type": "code",
   "execution_count": 53,
   "id": "1f8dda97",
   "metadata": {},
   "outputs": [
    {
     "data": {
      "text/plain": [
       "array([[3.0299640e-07, 9.9754578e-01, 1.0542987e-06, 1.8775316e-03,\n",
       "        7.0297239e-05, 1.6582538e-06, 1.9222400e-08, 3.7223980e-04,\n",
       "        1.2926188e-04, 1.7993499e-06],\n",
       "       [3.0299640e-07, 9.9754578e-01, 1.0542987e-06, 1.8775316e-03,\n",
       "        7.0297239e-05, 1.6582538e-06, 1.9222400e-08, 3.7223980e-04,\n",
       "        1.2926188e-04, 1.7993499e-06],\n",
       "       [3.0299640e-07, 9.9754578e-01, 1.0542987e-06, 1.8775316e-03,\n",
       "        7.0297370e-05, 1.6582570e-06, 1.9222400e-08, 3.7224049e-04,\n",
       "        1.2926175e-04, 1.7993499e-06]], dtype=float32)"
      ]
     },
     "execution_count": 53,
     "metadata": {},
     "output_type": "execute_result"
    }
   ],
   "source": [
    "predictions"
   ]
  },
  {
   "cell_type": "code",
   "execution_count": 55,
   "id": "cdf529ac",
   "metadata": {},
   "outputs": [
    {
     "name": "stdout",
     "output_type": "stream",
     "text": [
      "do not enter(1)\n",
      "1\n"
     ]
    }
   ],
   "source": [
    "position = np.argmax(predictions)\n",
    "print(pred_class[position])\n",
    "print(position)"
   ]
  },
  {
   "cell_type": "code",
   "execution_count": null,
   "id": "4c5ccb98",
   "metadata": {},
   "outputs": [],
   "source": [
    "img = plt.imread('4c6.jpg')\n",
    "plt.imshow(img)\n",
    "plt.axis('off')  # Turn off axis labels and ticks\n",
    "plt.show()"
   ]
  },
  {
   "cell_type": "code",
   "execution_count": null,
   "id": "3ba77f02",
   "metadata": {},
   "outputs": [],
   "source": []
  }
 ],
 "metadata": {
  "kernelspec": {
   "display_name": "Python 3 (ipykernel)",
   "language": "python",
   "name": "python3"
  },
  "language_info": {
   "codemirror_mode": {
    "name": "ipython",
    "version": 3
   },
   "file_extension": ".py",
   "mimetype": "text/x-python",
   "name": "python",
   "nbconvert_exporter": "python",
   "pygments_lexer": "ipython3",
   "version": "3.11.6"
  }
 },
 "nbformat": 4,
 "nbformat_minor": 5
}
