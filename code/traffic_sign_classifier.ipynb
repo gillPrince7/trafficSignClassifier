{
 "cells": [
  {
   "cell_type": "code",
   "execution_count": 1,
   "id": "00f91969",
   "metadata": {},
   "outputs": [],
   "source": [
    "import numpy as np \n",
    "import cv2\n",
    "import matplotlib\n",
    "from matplotlib import pyplot as plt\n",
    "%matplotlib inline\n",
    "import imghdr\n",
    "import os\n",
    "import tensorflow as tf"
   ]
  },
  {
   "cell_type": "code",
   "execution_count": 2,
   "id": "b1eb0818",
   "metadata": {},
   "outputs": [
    {
     "name": "stdout",
     "output_type": "stream",
     "text": [
      "C:\\Users\\gillp\\Downloads\\deep learning\\traffic sign\\image data\\Construction zone signRoad-Construction-Zones-–-Workers-in-Danger.jpeg does not exist\n",
      "C:\\Users\\gillp\\Downloads\\deep learning\\traffic sign\\image data\\do not enter115-1150048_sign-do-not-enter-placa-de-sinalização-em-ingles.png does not exist\n",
      "C:\\Users\\gillp\\Downloads\\deep learning\\traffic sign\\image data\\do not enterのサイン.jpg does not exist\n",
      "C:\\Users\\gillp\\Downloads\\deep learning\\traffic sign\\image data\\One way signSeñaletica_TW-04.jpg does not exist\n",
      "C:\\Users\\gillp\\Downloads\\deep learning\\traffic sign\\image data\\One way signthumb-400-400-road-signs-board_1028.jpg does not exist\n",
      "C:\\Users\\gillp\\Downloads\\deep learning\\traffic sign\\image data\\One way signニューヨークマンハッタン米国の道路標識入らないと片道.jpg does not exist\n",
      "C:\\Users\\gillp\\Downloads\\deep learning\\traffic sign\\image data\\Pedestrian crossing signbc506546-10b0-46ae-a5b2-e1f89f248b12.jpg does not exist\n",
      "C:\\Users\\gillp\\Downloads\\deep learning\\traffic sign\\image data\\Pedestrian crossing signbef733e7-5e12-45bb-a9d5-f56af72b8975.jpg does not exist\n",
      "C:\\Users\\gillp\\Downloads\\deep learning\\traffic sign\\image data\\Pedestrian crossing signFeux-rectangulaires-à-clignotement-rapide-FRCR-modèle-L-Signalisation-électronique-à-DEL-Trafic-.png does not exist\n",
      "C:\\Users\\gillp\\Downloads\\deep learning\\traffic sign\\image data\\Pedestrian crossing signPanneau-de-signalisation-à-DEL-pour-passage-piétons-et-écoliers-P-270-Trafic-Innovation.jpg does not exist\n",
      "C:\\Users\\gillp\\Downloads\\deep learning\\traffic sign\\image data\\Pedestrian crossing signSpécifications-techniques-du-panneau-de-signalisation-à-DEL-pour-passage-piétons-et-écoliers-Tra.jpg does not exist\n",
      "C:\\Users\\gillp\\Downloads\\deep learning\\traffic sign\\image data\\railway crossing sign172px-Railroad_Crossing__Niitvälja__Estonia.jpg does not exist\n",
      "C:\\Users\\gillp\\Downloads\\deep learning\\traffic sign\\image data\\railway crossing signAndrejev_križ.jpg does not exist\n",
      "C:\\Users\\gillp\\Downloads\\deep learning\\traffic sign\\image data\\School zone.jpg does not exist\n",
      "C:\\Users\\gillp\\Downloads\\deep learning\\traffic sign\\image data\\School zoneSchool Zone Hours (1600 × 900 px).png does not exist\n",
      "C:\\Users\\gillp\\Downloads\\deep learning\\traffic sign\\image data\\stop photos01_stopsign_Stop-Signs-Used-to-Be-Yellow—More-Recently-Than-You-Think_376238113_Usa-Pyon.jpg does not exist\n"
     ]
    }
   ],
   "source": [
    "#stop photos\n",
    "\n",
    "# Set the path to the folder containing the images\n",
    "path_to_folder = 'C:\\\\Users\\\\gillp\\\\Downloads\\\\deep learning\\\\traffic sign\\\\image data'\n",
    "\n",
    "# Create an empty list to store the images\n",
    "X = []\n",
    "y = []\n",
    "pred_class = []\n",
    "count = 0\n",
    "\n",
    "\n",
    "for foldername in os.listdir(path_to_folder):\n",
    "      \n",
    "        path_to_sub_folder = 'C:\\\\Users\\\\gillp\\\\Downloads\\\\deep learning\\\\traffic sign\\\\image data\\\\'+str(foldername)\n",
    "# Loop over all the files in the folder\n",
    "        \n",
    "        \n",
    "        \n",
    "        for filename in os.listdir(path_to_sub_folder):\n",
    "            # Check if the file is an image\n",
    "           \n",
    "          \n",
    "            \n",
    "  \n",
    "            if filename.endswith('.jpg') or filename.endswith('.png') or filename.endswith('.jpeg'):\n",
    "                # Load the image using OpenCV\n",
    "                try:\n",
    "\n",
    "                        img = cv2.imread(os.path.join(path_to_sub_folder, filename))\n",
    "                        resized_img = cv2.resize(img, (224, 224))\n",
    "                        normalized_img = resized_img / 255.0\n",
    "\n",
    "                        # Add the image to the list\n",
    "                        X.append(normalized_img)\n",
    "                        y.append(count)\n",
    "                        \n",
    "\n",
    "\n",
    "                except:       \n",
    "\n",
    "                        image_path = str(path_to_sub_folder)+str(filename)\n",
    "\n",
    "                        if os.path.exists(image_path):\n",
    "                                os.remove(image_path)\n",
    "                                print(f\"Deleted {image_path}\")\n",
    "                        else:\n",
    "                                print(f\"{image_path} does not exist\")\n",
    "                                \n",
    "                                \n",
    "        pred_class.append(foldername)         \n",
    "        count = count + 1"
   ]
  },
  {
   "cell_type": "code",
   "execution_count": 3,
   "id": "dc63e35a",
   "metadata": {},
   "outputs": [
    {
     "data": {
      "text/plain": [
       "3752"
      ]
     },
     "execution_count": 3,
     "metadata": {},
     "output_type": "execute_result"
    }
   ],
   "source": [
    "len(y)"
   ]
  },
  {
   "cell_type": "code",
   "execution_count": 4,
   "id": "c2e20882",
   "metadata": {},
   "outputs": [],
   "source": [
    "y_arr = np.array(y)\n",
    "X_arr = np.array(X)"
   ]
  },
  {
   "cell_type": "code",
   "execution_count": 5,
   "id": "a33f4667",
   "metadata": {},
   "outputs": [],
   "source": [
    "from sklearn.model_selection import train_test_split\n",
    "\n",
    "X = X_arr  \n",
    "y = y_arr  \n",
    "\n",
    "# Perform the train-test split with stratification\n",
    "X_train, X_test, y_train, y_test = train_test_split(X, y, test_size=0.3, stratify=y, random_state=1)\n"
   ]
  },
  {
   "cell_type": "code",
   "execution_count": 6,
   "id": "76118a42",
   "metadata": {},
   "outputs": [],
   "source": [
    "import tensorflow as tf\n",
    "from tensorflow.keras import datasets, layers, models\n",
    "import keras\n",
    "\n",
    "from keras.models import Sequential\n",
    "from keras.layers import Dense, Conv2D, MaxPooling2D, Flatten"
   ]
  },
  {
   "cell_type": "code",
   "execution_count": 7,
   "id": "4cbe89d0",
   "metadata": {},
   "outputs": [],
   "source": [
    "cnn = models.Sequential([\n",
    "    #cnn\n",
    "    \n",
    "    layers.Conv2D(filters = 32, activation = 'relu', input_shape=(224,224,3),  kernel_size = (3,3)),\n",
    "    layers.MaxPooling2D((2,2)),\n",
    "    \n",
    "    layers.Conv2D(filters = 64, activation = 'relu',  kernel_size = (3,3)),\n",
    "    layers.MaxPooling2D((2,2)),\n",
    "    \n",
    "    #dense \n",
    "    \n",
    "    layers.Flatten(),\n",
    "    layers.Dense(64, activation='relu'),\n",
    "    layers.Dense(10, activation='softmax'),\n",
    "    \n",
    "])"
   ]
  },
  {
   "cell_type": "code",
   "execution_count": 8,
   "id": "c497bd2a",
   "metadata": {},
   "outputs": [],
   "source": [
    "cnn.compile(optimizer='adam',\n",
    "              loss='sparse_categorical_crossentropy',\n",
    "              metrics=['accuracy'])\n"
   ]
  },
  {
   "cell_type": "code",
   "execution_count": 9,
   "id": "082bd5f8",
   "metadata": {},
   "outputs": [
    {
     "name": "stdout",
     "output_type": "stream",
     "text": [
      "Epoch 1/10\n",
      "83/83 [==============================] - 35s 417ms/step - loss: 2.8521 - accuracy: 0.2654\n",
      "Epoch 2/10\n",
      "83/83 [==============================] - 36s 430ms/step - loss: 1.4380 - accuracy: 0.5183\n",
      "Epoch 3/10\n",
      "83/83 [==============================] - 35s 417ms/step - loss: 0.8027 - accuracy: 0.7532\n",
      "Epoch 4/10\n",
      "83/83 [==============================] - 36s 427ms/step - loss: 0.3430 - accuracy: 0.9212\n",
      "Epoch 5/10\n",
      "83/83 [==============================] - 36s 436ms/step - loss: 0.1911 - accuracy: 0.9745\n",
      "Epoch 6/10\n",
      "83/83 [==============================] - 35s 424ms/step - loss: 0.1536 - accuracy: 0.9775\n",
      "Epoch 7/10\n",
      "83/83 [==============================] - 36s 434ms/step - loss: 0.1015 - accuracy: 0.9867\n",
      "Epoch 8/10\n",
      "83/83 [==============================] - 36s 440ms/step - loss: 0.1305 - accuracy: 0.9867\n",
      "Epoch 9/10\n",
      "83/83 [==============================] - 37s 440ms/step - loss: 0.1133 - accuracy: 0.9859\n",
      "Epoch 10/10\n",
      "83/83 [==============================] - 37s 440ms/step - loss: 0.0744 - accuracy: 0.9905\n"
     ]
    },
    {
     "data": {
      "text/plain": [
       "<keras.callbacks.History at 0x21d1efa0d00>"
      ]
     },
     "execution_count": 9,
     "metadata": {},
     "output_type": "execute_result"
    }
   ],
   "source": [
    "cnn.fit(X_train,y_train,epochs=10)"
   ]
  },
  {
   "cell_type": "code",
   "execution_count": 10,
   "id": "f8a2e86f",
   "metadata": {},
   "outputs": [
    {
     "name": "stdout",
     "output_type": "stream",
     "text": [
      "36/36 [==============================] - 5s 116ms/step - loss: 3.0482 - accuracy: 0.4503\n"
     ]
    },
    {
     "data": {
      "text/plain": [
       "[3.0481784343719482, 0.45026642084121704]"
      ]
     },
     "execution_count": 10,
     "metadata": {},
     "output_type": "execute_result"
    }
   ],
   "source": [
    "cnn.evaluate(X_test, y_test)"
   ]
  },
  {
   "cell_type": "code",
   "execution_count": 11,
   "id": "081a0767",
   "metadata": {},
   "outputs": [
    {
     "data": {
      "text/plain": [
       "(2626, 224, 224, 3)"
      ]
     },
     "execution_count": 11,
     "metadata": {},
     "output_type": "execute_result"
    }
   ],
   "source": [
    "X_train.shape"
   ]
  },
  {
   "cell_type": "code",
   "execution_count": 12,
   "id": "556bbcf3",
   "metadata": {},
   "outputs": [],
   "source": [
    "def plot_sample(X, y, index):\n",
    "    plt.figure(figsize = (15,2))\n",
    "    plt.imshow(X[index])\n",
    "    plt.xlabel([y[index]])"
   ]
  },
  {
   "cell_type": "code",
   "execution_count": 13,
   "id": "b82acbe5",
   "metadata": {},
   "outputs": [
    {
     "data": {
      "image/png": "[encoded data removed]",
      "text/plain": [
       "<Figure size 1500x200 with 1 Axes>"
      ]
     },
     "metadata": {},
     "output_type": "display_data"
    }
   ],
   "source": [
    "plot_sample(X_test, y_test,5)\n"
   ]
  },
  {
   "cell_type": "code",
   "execution_count": 14,
   "id": "3f72c1b4",
   "metadata": {},
   "outputs": [
    {
     "name": "stdout",
     "output_type": "stream",
     "text": [
      "Classification Report: \n",
      "               precision    recall  f1-score   support\n",
      "\n",
      "           0       0.75      0.39      0.52        99\n",
      "           1       0.55      0.51      0.53        67\n",
      "           2       0.62      0.37      0.47        54\n",
      "           3       0.46      0.54      0.50       193\n",
      "           4       0.40      0.57      0.47       222\n",
      "           5       0.33      0.22      0.26        88\n",
      "           6       0.37      0.37      0.37       115\n",
      "           7       0.44      0.34      0.39       125\n",
      "           8       0.49      0.53      0.51       131\n",
      "           9       0.28      0.25      0.26        32\n",
      "\n",
      "    accuracy                           0.45      1126\n",
      "   macro avg       0.47      0.41      0.43      1126\n",
      "weighted avg       0.47      0.45      0.45      1126\n",
      "\n"
     ]
    }
   ],
   "source": [
    "from sklearn.metrics import confusion_matrix , classification_report\n",
    "import numpy as np\n",
    "y_pred = cnn.predict(X_test)\n",
    "y_pred_classes = [np.argmax(element) for element in y_pred]\n",
    "\n",
    "print(\"Classification Report: \\n\", classification_report(y_test, y_pred_classes))"
   ]
  },
  {
   "cell_type": "code",
   "execution_count": 30,
   "id": "6486e983",
   "metadata": {},
   "outputs": [],
   "source": [
    "img = cv2.cvtColor(cv2.imread('430-4301539_construction-sign-png-download-image-construction-zone-construction.png'), cv2.COLOR_BGR2RGB)\n",
    "img = img[:, :, :3]\n",
    "\n",
    "img = cv2.resize(img, (224, 224))\n",
    "img = np.array(img)\n",
    "img = img / 255.0\n",
    "img = img.reshape((1, img.shape[0], img.shape[1], img.shape[2]))\n",
    "\n",
    "# Predict the class of the test image\n",
    "\n",
    "predictions = cnn.predict(img)\n",
    "class_index = np.argmax(predictions)\n",
    "confidence_scores = predictions\n",
    "probabilities = np.exp(confidence_scores) / np.sum(np.exp(confidence_scores))\n"
   ]
  },
  {
   "cell_type": "code",
   "execution_count": 22,
   "id": "de8c306b",
   "metadata": {},
   "outputs": [
    {
     "data": {
      "text/plain": [
       "'stop photos'"
      ]
     },
     "execution_count": 22,
     "metadata": {},
     "output_type": "execute_result"
    }
   ],
   "source": [
    "pred_class[class_index]"
   ]
  },
  {
   "cell_type": "code",
   "execution_count": 23,
   "id": "7313cc63",
   "metadata": {},
   "outputs": [],
   "source": [
    "from PIL import Image\n",
    "im = Image.open(\"430-4301539_construction-sign-png-download-image-construction-zone-construction.png\") \n",
    "  \n",
    "# This method will show image in any image viewer \n",
    "im.show()"
   ]
  },
  {
   "cell_type": "code",
   "execution_count": 19,
   "id": "723de322",
   "metadata": {},
   "outputs": [],
   "source": [
    "from keras.models import load_model\n",
    "cnn.save('model_n5.h5')"
   ]
  },
  {
   "cell_type": "code",
   "execution_count": 20,
   "id": "99bcd3b4",
   "metadata": {},
   "outputs": [
    {
     "name": "stdout",
     "output_type": "stream",
     "text": [
      "[[0.08788502 0.08795063 0.18373734 0.08797234 0.10922305 0.09118028\n",
      "  0.08788255 0.08791406 0.08835708 0.08789774]]\n"
     ]
    }
   ],
   "source": [
    "confidence_scores = predictions\n",
    "# apply softmax function to obtain probabilities\n",
    "probabilities = np.exp(confidence_scores) / np.sum(np.exp(confidence_scores))\n",
    "\n",
    "print(probabilities)"
   ]
  }
 ],
 "metadata": {
  "kernelspec": {
   "display_name": "Python 3 (ipykernel)",
   "language": "python",
   "name": "python3"
  },
  "language_info": {
   "codemirror_mode": {
    "name": "ipython",
    "version": 3
   },
   "file_extension": ".py",
   "mimetype": "text/x-python",
   "name": "python",
   "nbconvert_exporter": "python",
   "pygments_lexer": "ipython3",
   "version": "3.9.16"
  }
 },
 "nbformat": 4,
 "nbformat_minor": 5
}
