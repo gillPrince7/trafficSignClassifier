{
 "cells": [
  {
   "cell_type": "code",
   "execution_count": 2,
   "id": "00f91969",
   "metadata": {},
   "outputs": [],
   "source": [
    "import numpy as np \n",
    "import cv2\n",
    "import matplotlib\n",
    "from matplotlib import pyplot as plt\n",
    "%matplotlib inline\n",
    "import imghdr\n",
    "import os\n",
    "import tensorflow as tf\n",
    "import tensorflow_hub as hub"
   ]
  },
  {
   "cell_type": "code",
   "execution_count": 9,
   "id": "b1eb0818",
   "metadata": {},
   "outputs": [
    {
     "name": "stdout",
     "output_type": "stream",
     "text": [
      "C:\\Users\\gillp\\Downloads\\deep learning\\traffic sign\\image data\\stop photos01_stopsign_Stop-Signs-Used-to-Be-Yellow—More-Recently-Than-You-Think_376238113_Usa-Pyon.jpg does not exist\n"
     ]
    }
   ],
   "source": [
    "#stop photos\n",
    "\n",
    "\n",
    "# Set the path to the folder containing the images\n",
    "path_to_folder = 'C:\\\\Users\\\\gillp\\\\Downloads\\\\deep learning\\\\traffic sign\\\\image data\\\\stop photos'\n",
    "\n",
    "# Create an empty list to store the images\n",
    "X = []\n",
    "y = []\n",
    "\n",
    "# Loop over all the files in the folder\n",
    "for filename in os.listdir(path_to_folder):\n",
    "    # Check if the file is an image\n",
    "    if filename.endswith('.jpg') or filename.endswith('.png') or filename.endswith('.jpeg'):\n",
    "        # Load the image using OpenCV\n",
    "        try:\n",
    "            \n",
    "                img = cv2.imread(os.path.join(path_to_folder, filename))\n",
    "                resized_img = cv2.resize(img, (224, 224))\n",
    "                normalized_img = resized_img / 255.0\n",
    "\n",
    "                # Add the image to the list\n",
    "                X.append(normalized_img)\n",
    "                y.append(1)\n",
    "\n",
    "        \n",
    "        except:       \n",
    "                \n",
    "                image_path = 'C:\\\\Users\\\\gillp\\\\Downloads\\\\deep learning\\\\traffic sign\\\\image data\\\\stop photos'+str(filename)\n",
    "\n",
    "                if os.path.exists(image_path):\n",
    "                        os.remove(image_path)\n",
    "                        print(f\"Deleted {image_path}\")\n",
    "                else:\n",
    "                        print(f\"{image_path} does not exist\")\n",
    "              "
   ]
  },
  {
   "cell_type": "code",
   "execution_count": 10,
   "id": "deee36de",
   "metadata": {},
   "outputs": [
    {
     "data": {
      "text/plain": [
       "435"
      ]
     },
     "execution_count": 10,
     "metadata": {},
     "output_type": "execute_result"
    }
   ],
   "source": [
    "len(X)"
   ]
  },
  {
   "cell_type": "code",
   "execution_count": 38,
   "id": "89fd9c80",
   "metadata": {},
   "outputs": [
    {
     "name": "stdout",
     "output_type": "stream",
     "text": [
      "C:\\Users\\gillp\\Downloads\\deep learning\\traffic sign\\School zone.jpg does not exist\n",
      "C:\\Users\\gillp\\Downloads\\deep learning\\traffic sign\\School zoneSchool Zone Hours (1600 × 900 px).png does not exist\n"
     ]
    }
   ],
   "source": [
    "\n",
    " # Set the path to the folder containing the images\n",
    "path_to_folder = 'C:\\\\Users\\\\gillp\\\\Downloads\\\\deep learning\\\\traffic sign\\\\School zone'\n",
    "\n",
    "\n",
    "    # Loop over all the files in the folder\n",
    "for filename in os.listdir(path_to_folder):\n",
    "        # Check if the file is an image\n",
    "    if filename.endswith('.jpg') or filename.endswith('.png') or filename.endswith('.jpeg'):\n",
    "            # Load the image using OpenCV\n",
    "            \n",
    "            try:\n",
    "                    img = cv2.imread(os.path.join(path_to_folder, filename))\n",
    "                    resized_img = cv2.resize(img, (224, 224))\n",
    "                    normalized_img = resized_img / 255.0\n",
    "\n",
    "                        # Add the image to the list\n",
    "                    X.append(normalized_img)\n",
    "                    y.append(0)\n",
    "            except:       \n",
    "                \n",
    "                image_path = 'C:\\\\Users\\\\gillp\\\\Downloads\\\\deep learning\\\\traffic sign\\\\School zone'+str(filename)\n",
    "\n",
    "                if os.path.exists(image_path):\n",
    "                        os.remove(image_path)\n",
    "                        print(f\"Deleted {image_path}\")\n",
    "                else:\n",
    "                        print(f\"{image_path} does not exist\")\n",
    "              "
   ]
  },
  {
   "cell_type": "code",
   "execution_count": 39,
   "id": "724d01d2",
   "metadata": {},
   "outputs": [
    {
     "data": {
      "text/plain": [
       "820"
      ]
     },
     "execution_count": 39,
     "metadata": {},
     "output_type": "execute_result"
    }
   ],
   "source": [
    "len(X)"
   ]
  },
  {
   "cell_type": "code",
   "execution_count": 11,
   "id": "c2e20882",
   "metadata": {},
   "outputs": [],
   "source": [
    "y_arr = np.array(y)\n",
    "X_arr = np.array(X)"
   ]
  },
  {
   "cell_type": "code",
   "execution_count": 12,
   "id": "c8fedd06",
   "metadata": {},
   "outputs": [],
   "source": [
    "from sklearn.model_selection import train_test_split"
   ]
  },
  {
   "cell_type": "code",
   "execution_count": 13,
   "id": "752f7a9e",
   "metadata": {},
   "outputs": [],
   "source": [
    "X_train, X_test, y_train, y_test = train_test_split(X_arr, y_arr, test_size=0.2, random_state=42)"
   ]
  },
  {
   "cell_type": "code",
   "execution_count": 14,
   "id": "081a0767",
   "metadata": {},
   "outputs": [
    {
     "data": {
      "text/plain": [
       "(348, 224, 224, 3)"
      ]
     },
     "execution_count": 14,
     "metadata": {},
     "output_type": "execute_result"
    }
   ],
   "source": [
    "X_train.shape"
   ]
  },
  {
   "cell_type": "code",
   "execution_count": 15,
   "id": "cfaf4564",
   "metadata": {},
   "outputs": [],
   "source": [
    "import tensorflow as tf\n",
    "from tensorflow.keras import datasets, layers, models\n",
    "import keras\n",
    "\n",
    "from keras.models import Sequential\n",
    "from keras.layers import Dense, Conv2D, MaxPooling2D, Flatten"
   ]
  },
  {
   "cell_type": "code",
   "execution_count": 16,
   "id": "66b65a65",
   "metadata": {},
   "outputs": [],
   "source": [
    "cnn = models.Sequential([\n",
    "    #cnn\n",
    "    \n",
    "    layers.Conv2D(filters = 32, activation = 'relu', input_shape=(224,224,3),  kernel_size = (3,3)),\n",
    "    layers.MaxPooling2D((2,2)),\n",
    "    \n",
    "    layers.Conv2D(filters = 64, activation = 'relu',  kernel_size = (3,3)),\n",
    "    layers.MaxPooling2D((2,2)),\n",
    "    \n",
    "    #dense \n",
    "    \n",
    "    layers.Flatten(),\n",
    "    layers.Dense(64, activation='relu'),\n",
    "    layers.Dense(10, activation='softmax'),\n",
    "    \n",
    "])"
   ]
  },
  {
   "cell_type": "code",
   "execution_count": 17,
   "id": "768c890f",
   "metadata": {},
   "outputs": [],
   "source": [
    "cnn.compile(optimizer='adam',\n",
    "              loss='sparse_categorical_crossentropy',\n",
    "              metrics=['accuracy'])\n"
   ]
  },
  {
   "cell_type": "code",
   "execution_count": 18,
   "id": "4ae84c53",
   "metadata": {},
   "outputs": [
    {
     "name": "stdout",
     "output_type": "stream",
     "text": [
      "Epoch 1/10\n",
      "11/11 [==============================] - 6s 440ms/step - loss: 0.2109 - accuracy: 0.9080\n",
      "Epoch 2/10\n",
      "11/11 [==============================] - 5s 434ms/step - loss: 0.0000e+00 - accuracy: 1.0000\n",
      "Epoch 3/10\n",
      "11/11 [==============================] - 5s 456ms/step - loss: 0.0000e+00 - accuracy: 1.0000\n",
      "Epoch 4/10\n",
      "11/11 [==============================] - 5s 494ms/step - loss: 0.0000e+00 - accuracy: 1.0000\n",
      "Epoch 5/10\n",
      "11/11 [==============================] - 5s 453ms/step - loss: 0.0000e+00 - accuracy: 1.0000\n",
      "Epoch 6/10\n",
      "11/11 [==============================] - 5s 448ms/step - loss: 0.0000e+00 - accuracy: 1.0000\n",
      "Epoch 7/10\n",
      "11/11 [==============================] - 5s 445ms/step - loss: 0.0000e+00 - accuracy: 1.0000\n",
      "Epoch 8/10\n",
      "11/11 [==============================] - 5s 451ms/step - loss: 0.0000e+00 - accuracy: 1.0000\n",
      "Epoch 9/10\n",
      "11/11 [==============================] - 5s 446ms/step - loss: 0.0000e+00 - accuracy: 1.0000\n",
      "Epoch 10/10\n",
      "11/11 [==============================] - 5s 453ms/step - loss: 0.0000e+00 - accuracy: 1.0000\n"
     ]
    },
    {
     "data": {
      "text/plain": [
       "<keras.callbacks.History at 0x21c7af6bdc0>"
      ]
     },
     "execution_count": 18,
     "metadata": {},
     "output_type": "execute_result"
    }
   ],
   "source": [
    "cnn.fit(X_train,y_train,epochs=10)"
   ]
  },
  {
   "cell_type": "code",
   "execution_count": 19,
   "id": "54080a57",
   "metadata": {},
   "outputs": [
    {
     "name": "stdout",
     "output_type": "stream",
     "text": [
      "3/3 [==============================] - 0s 101ms/step - loss: 0.0000e+00 - accuracy: 1.0000\n"
     ]
    },
    {
     "data": {
      "text/plain": [
       "[0.0, 1.0]"
      ]
     },
     "execution_count": 19,
     "metadata": {},
     "output_type": "execute_result"
    }
   ],
   "source": [
    "cnn.evaluate(X_test, y_test)"
   ]
  },
  {
   "cell_type": "code",
   "execution_count": 15,
   "id": "556bbcf3",
   "metadata": {},
   "outputs": [],
   "source": [
    "def plot_sample(X, y, index):\n",
    "    plt.figure(figsize = (15,2))\n",
    "    plt.imshow(X[index])\n",
    "    plt.xlabel([y[index]])"
   ]
  },
  {
   "cell_type": "code",
   "execution_count": 16,
   "id": "b82acbe5",
   "metadata": {},
   "outputs": [
    {
     "data": {
      "image/png": "[encoded data removed]",
      "text/plain": [
       "<Figure size 1500x200 with 1 Axes>"
      ]
     },
     "metadata": {},
     "output_type": "display_data"
    }
   ],
   "source": [
    "plot_sample(X_test, y_test,5)\n"
   ]
  },
  {
   "cell_type": "code",
   "execution_count": 17,
   "id": "e7895bf0",
   "metadata": {},
   "outputs": [
    {
     "name": "stdout",
     "output_type": "stream",
     "text": [
      "6/6 [==============================] - 1s 85ms/step\n",
      "Classification Report: \n",
      "               precision    recall  f1-score   support\n",
      "\n",
      "           0       0.70      0.87      0.78        82\n",
      "           1       0.84      0.66      0.74        89\n",
      "\n",
      "    accuracy                           0.76       171\n",
      "   macro avg       0.77      0.76      0.76       171\n",
      "weighted avg       0.78      0.76      0.76       171\n",
      "\n"
     ]
    }
   ],
   "source": [
    "from sklearn.metrics import confusion_matrix , classification_report\n",
    "import numpy as np\n",
    "y_pred = cnn.predict(X_test)\n",
    "y_pred_classes = [np.argmax(element) for element in y_pred]\n",
    "\n",
    "print(\"Classification Report: \\n\", classification_report(y_test, y_pred_classes))"
   ]
  },
  {
   "cell_type": "markdown",
   "id": "3b90eed4",
   "metadata": {},
   "source": [
    "# Transfer learning"
   ]
  },
  {
   "cell_type": "code",
   "execution_count": 49,
   "id": "3a06dd1a",
   "metadata": {},
   "outputs": [],
   "source": [
    "import numpy as np\n",
    "import cv2\n",
    "\n",
    "import PIL.Image as Image\n",
    "import os\n",
    "\n",
    "import matplotlib.pylab as plt\n",
    "\n",
    "import tensorflow as tf\n",
    "import tensorflow_hub as hub\n",
    "\n",
    "from tensorflow import keras\n",
    "from tensorflow.keras import layers\n",
    "from tensorflow.keras.models import Sequential"
   ]
  },
  {
   "cell_type": "code",
   "execution_count": 50,
   "id": "94b6342a",
   "metadata": {
    "scrolled": true
   },
   "outputs": [],
   "source": [
    "IMAGE_SHAPE = (224, 224)\n",
    "\n",
    "classifier = tf.keras.Sequential([\n",
    "    hub.KerasLayer(\"https://tfhub.dev/google/tf2-preview/mobilenet_v2/classification/4\", input_shape=IMAGE_SHAPE+(3,))\n",
    "])"
   ]
  },
  {
   "cell_type": "code",
   "execution_count": 51,
   "id": "87ed4fae",
   "metadata": {},
   "outputs": [],
   "source": [
    "feature_extractor_model = \"https://tfhub.dev/google/tf2-preview/mobilenet_v2/feature_vector/4\"\n",
    "\n",
    "pretrained_model_without_top_layer = hub.KerasLayer(\n",
    "    feature_extractor_model, input_shape=(224, 224, 3), trainable=False)"
   ]
  },
  {
   "cell_type": "code",
   "execution_count": 53,
   "id": "dad2c022",
   "metadata": {},
   "outputs": [
    {
     "name": "stdout",
     "output_type": "stream",
     "text": [
      "Model: \"sequential_4\"\n",
      "_________________________________________________________________\n",
      " Layer (type)                Output Shape              Param #   \n",
      "=================================================================\n",
      " keras_layer_3 (KerasLayer)  (None, 1280)              2257984   \n",
      "                                                                 \n",
      " dense_2 (Dense)             (None, 2)                 2562      \n",
      "                                                                 \n",
      "=================================================================\n",
      "Total params: 2,260,546\n",
      "Trainable params: 2,562\n",
      "Non-trainable params: 2,257,984\n",
      "_________________________________________________________________\n"
     ]
    }
   ],
   "source": [
    "\n",
    "model = tf.keras.Sequential([\n",
    "  pretrained_model_without_top_layer,\n",
    "  tf.keras.layers.Dense(2)\n",
    "])\n",
    "\n",
    "model.summary()"
   ]
  },
  {
   "cell_type": "code",
   "execution_count": 55,
   "id": "c12050cc",
   "metadata": {},
   "outputs": [
    {
     "name": "stdout",
     "output_type": "stream",
     "text": [
      "Epoch 1/5\n",
      "21/21 [==============================] - 9s 288ms/step - loss: 0.5677 - acc: 0.7027\n",
      "Epoch 2/5\n",
      "21/21 [==============================] - 6s 289ms/step - loss: 0.2644 - acc: 0.9055\n",
      "Epoch 3/5\n",
      "21/21 [==============================] - 6s 293ms/step - loss: 0.1905 - acc: 0.9390\n",
      "Epoch 4/5\n",
      "21/21 [==============================] - 6s 285ms/step - loss: 0.1574 - acc: 0.9573\n",
      "Epoch 5/5\n",
      "21/21 [==============================] - 6s 280ms/step - loss: 0.1362 - acc: 0.9558\n"
     ]
    },
    {
     "data": {
      "text/plain": [
       "<keras.callbacks.History at 0x267b659ca90>"
      ]
     },
     "execution_count": 55,
     "metadata": {},
     "output_type": "execute_result"
    }
   ],
   "source": [
    "model.compile(\n",
    "  optimizer=\"adam\",\n",
    "  loss=tf.keras.losses.SparseCategoricalCrossentropy(from_logits=True),\n",
    "  metrics=['acc'])\n",
    "\n",
    "model.fit(X_train, y_train, epochs=5)"
   ]
  },
  {
   "cell_type": "code",
   "execution_count": 56,
   "id": "f4256ff5",
   "metadata": {},
   "outputs": [
    {
     "name": "stdout",
     "output_type": "stream",
     "text": [
      "6/6 [==============================] - 2s 252ms/step - loss: 0.1557 - acc: 0.9451\n"
     ]
    },
    {
     "data": {
      "text/plain": [
       "[0.1556704044342041, 0.9451219439506531]"
      ]
     },
     "execution_count": 56,
     "metadata": {},
     "output_type": "execute_result"
    }
   ],
   "source": [
    "model.evaluate(X_test,y_test)"
   ]
  },
  {
   "cell_type": "code",
   "execution_count": 57,
   "id": "3f72c1b4",
   "metadata": {},
   "outputs": [
    {
     "name": "stdout",
     "output_type": "stream",
     "text": [
      "6/6 [==============================] - 2s 243ms/step\n",
      "Classification Report: \n",
      "               precision    recall  f1-score   support\n",
      "\n",
      "           0       0.96      0.92      0.94        78\n",
      "           1       0.93      0.97      0.95        86\n",
      "\n",
      "    accuracy                           0.95       164\n",
      "   macro avg       0.95      0.94      0.94       164\n",
      "weighted avg       0.95      0.95      0.95       164\n",
      "\n"
     ]
    }
   ],
   "source": [
    "from sklearn.metrics import confusion_matrix , classification_report\n",
    "import numpy as np\n",
    "y_pred = model.predict(X_test)\n",
    "y_pred_classes = [np.argmax(element) for element in y_pred]\n",
    "\n",
    "print(\"Classification Report: \\n\", classification_report(y_test, y_pred_classes))"
   ]
  },
  {
   "cell_type": "code",
   "execution_count": null,
   "id": "4b84014d",
   "metadata": {},
   "outputs": [],
   "source": [
    "count = 0\n",
    "d_count = 0\n",
    "\n",
    "import os\n",
    "from PIL import Image\n",
    "\n",
    "# Define the directory containing the images to classify\n",
    "path_to_folder = 'C:\\\\Users\\\\gillp\\\\Downloads\\\\deep learning\\\\traffic sign\\\\random'\n",
    "\n",
    "# Loop over each image in the directory\n",
    "for filename in os.listdir(path_to_folder):\n",
    "        # Check if the file is an image\n",
    "    if filename.endswith('.jpg') or filename.endswith('.png') or filename.endswith('.jpeg'):\n",
    "            # Load the image using OpenCV\n",
    "        try:\n",
    "            \n",
    "                count = count+1\n",
    "                img = cv2.imread(os.path.join(path_to_folder, filename))\n",
    "\n",
    "                resized_img = cv2.resize(img, (224, 224))\n",
    "                img_array = np.array(resized_img)\n",
    "                normalized_img = img_array / 255.0\n",
    "                img_end = np.expand_dims(normalized_img, axis=0)\n",
    "\n",
    "\n",
    "\n",
    "                # Classify the image and store the result\n",
    "\n",
    "                y_pred = model.predict(img_end)\n",
    "                y_pred_classes = [np.argmax(element) for element in y_pred]\n",
    "\n",
    "                # Traceback the original filename of the image\n",
    "                print(y_pred_classes)\n",
    "                print(f\"Original filename: {filename}, Classification result: {y_pred_classes}\")\n",
    "                if(y_pred_classes[0] ==0):\n",
    "\n",
    "                        image_path = 'C:\\\\Users\\\\gillp\\\\Downloads\\\\deep learning\\\\traffic sign\\\\random\\\\'+str(filename)\n",
    "\n",
    "                        if os.path.exists(image_path):\n",
    "                            os.remove(image_path)\n",
    "                            print(f\"Deleted {image_path}\")\n",
    "                        else:\n",
    "                            print(f\"{image_path} does not exist\")\n",
    "\n",
    "        except:\n",
    "                        d_count = 0        \n",
    "                \n",
    "                        image_path = 'C:\\\\Users\\\\gillp\\\\Downloads\\\\deep learning\\\\traffic sign\\\\random\\\\'+str(filename)\n",
    "\n",
    "                        if os.path.exists(image_path):\n",
    "                            os.remove(image_path)\n",
    "                            print(f\"Deleted {image_path}\")\n",
    "                        else:\n",
    "                            print(f\"{image_path} does not exist\")\n",
    "                \n"
   ]
  },
  {
   "cell_type": "code",
   "execution_count": 20,
   "id": "8a9e8a18",
   "metadata": {},
   "outputs": [],
   "source": [
    "from keras.models import load_model\n",
    "cnn.save('model.h5')\n",
    "model_final = load_model('model.h5')"
   ]
  },
  {
   "cell_type": "code",
   "execution_count": 22,
   "id": "890ffd74",
   "metadata": {},
   "outputs": [
    {
     "name": "stderr",
     "output_type": "stream",
     "text": [
      "WARNING: Ignoring invalid distribution -rotobuf (c:\\users\\gillp\\anaconda3\\lib\\site-packages)\n",
      "WARNING: Ignoring invalid distribution -rotobuf (c:\\users\\gillp\\anaconda3\\lib\\site-packages)\n",
      "WARNING: Ignoring invalid distribution -rotobuf (c:\\users\\gillp\\anaconda3\\lib\\site-packages)\n",
      "WARNING: Ignoring invalid distribution -rotobuf (c:\\users\\gillp\\anaconda3\\lib\\site-packages)\n",
      "WARNING: Ignoring invalid distribution -rotobuf (c:\\users\\gillp\\anaconda3\\lib\\site-packages)\n",
      "WARNING: Ignoring invalid distribution -rotobuf (c:\\users\\gillp\\anaconda3\\lib\\site-packages)\n"
     ]
    },
    {
     "name": "stdout",
     "output_type": "stream",
     "text": [
      "Requirement already satisfied: joblib in c:\\users\\gillp\\anaconda3\\lib\\site-packages (1.1.1)\n",
      "INFO:tensorflow:Assets written to: ram://3cd10551-7a9a-4408-b7e0-61adf946bcb1/assets\n"
     ]
    },
    {
     "data": {
      "text/plain": [
       "['saved_model.pkl']"
      ]
     },
     "execution_count": 22,
     "metadata": {},
     "output_type": "execute_result"
    }
   ],
   "source": [
    "!pip install joblib\n",
    "import joblib \n",
    "# Save the model as a pickle in a file \n",
    "joblib.dump(cnn, 'saved_model.pkl') "
   ]
  },
  {
   "cell_type": "code",
   "execution_count": 24,
   "id": "cc81153f",
   "metadata": {},
   "outputs": [
    {
     "name": "stdout",
     "output_type": "stream",
     "text": [
      "3/3 [==============================] - 0s 105ms/step - loss: 0.0000e+00 - accuracy: 1.0000\n"
     ]
    },
    {
     "data": {
      "text/plain": [
       "[0.0, 1.0]"
      ]
     },
     "execution_count": 24,
     "metadata": {},
     "output_type": "execute_result"
    }
   ],
   "source": [
    "model_final.evaluate(X_test,y_test)"
   ]
  }
 ],
 "metadata": {
  "kernelspec": {
   "display_name": "Python 3 (ipykernel)",
   "language": "python",
   "name": "python3"
  },
  "language_info": {
   "codemirror_mode": {
    "name": "ipython",
    "version": 3
   },
   "file_extension": ".py",
   "mimetype": "text/x-python",
   "name": "python",
   "nbconvert_exporter": "python",
   "pygments_lexer": "ipython3",
   "version": "3.9.16"
  }
 },
 "nbformat": 4,
 "nbformat_minor": 5
}
