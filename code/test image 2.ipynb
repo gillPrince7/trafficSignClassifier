{
 "cells": [
  {
   "cell_type": "code",
   "execution_count": 3,
   "id": "00f91969",
   "metadata": {},
   "outputs": [],
   "source": [
    "import numpy as np \n",
    "import cv2\n",
    "import matplotlib\n",
    "from matplotlib import pyplot as plt\n",
    "%matplotlib inline\n",
    "import imghdr\n",
    "import os\n",
    "import tensorflow as tf\n",
    "import tensorflow_hub as hub"
   ]
  },
  {
   "cell_type": "code",
   "execution_count": 4,
   "id": "b1eb0818",
   "metadata": {},
   "outputs": [
    {
     "name": "stdout",
     "output_type": "stream",
     "text": [
      "C:\\Users\\gillp\\Downloads\\deep learning\\traffic sign\\image data\\stop photos01_stopsign_Stop-Signs-Used-to-Be-Yellow—More-Recently-Than-You-Think_376238113_Usa-Pyon.jpg does not exist\n"
     ]
    }
   ],
   "source": [
    "#stop photos\n",
    "\n",
    "\n",
    "# Set the path to the folder containing the images\n",
    "path_to_folder = 'C:\\\\Users\\\\gillp\\\\Downloads\\\\deep learning\\\\traffic sign\\\\image data\\\\stop photos'\n",
    "\n",
    "# Create an empty list to store the images\n",
    "X = []\n",
    "y = []\n",
    "\n",
    "# Loop over all the files in the folder\n",
    "for filename in os.listdir(path_to_folder):\n",
    "    # Check if the file is an image\n",
    "    if filename.endswith('.jpg') or filename.endswith('.png') or filename.endswith('.jpeg'):\n",
    "        # Load the image using OpenCV\n",
    "        try:\n",
    "            \n",
    "                img = cv2.imread(os.path.join(path_to_folder, filename))\n",
    "                resized_img = cv2.resize(img, (224, 224))\n",
    "                normalized_img = resized_img / 255.0\n",
    "\n",
    "                # Add the image to the list\n",
    "                X.append(normalized_img)\n",
    "                y.append(1)\n",
    "\n",
    "        \n",
    "        except:       \n",
    "                \n",
    "                image_path = 'C:\\\\Users\\\\gillp\\\\Downloads\\\\deep learning\\\\traffic sign\\\\image data\\\\stop photos'+str(filename)\n",
    "\n",
    "                if os.path.exists(image_path):\n",
    "                        os.remove(image_path)\n",
    "                        print(f\"Deleted {image_path}\")\n",
    "                else:\n",
    "                        print(f\"{image_path} does not exist\")\n",
    "              "
   ]
  },
  {
   "cell_type": "code",
   "execution_count": 5,
   "id": "deee36de",
   "metadata": {},
   "outputs": [
    {
     "data": {
      "text/plain": [
       "435"
      ]
     },
     "execution_count": 5,
     "metadata": {},
     "output_type": "execute_result"
    }
   ],
   "source": [
    "len(X)"
   ]
  },
  {
   "cell_type": "code",
   "execution_count": 6,
   "id": "89fd9c80",
   "metadata": {},
   "outputs": [
    {
     "name": "stdout",
     "output_type": "stream",
     "text": [
      "C:\\Users\\gillp\\Downloads\\deep learning\\traffic sign\\image data \\Construction zone signRoad-Construction-Zones-–-Workers-in-Danger.jpeg does not exist\n"
     ]
    }
   ],
   "source": [
    "\n",
    " # Set the path to the folder containing the images\n",
    "path_to_folder = 'C:\\\\Users\\\\gillp\\\\Downloads\\\\deep learning\\\\traffic sign\\\\image data\\\\Construction zone sign'\n",
    "\n",
    "\n",
    "    # Loop over all the files in the folder\n",
    "for filename in os.listdir(path_to_folder):\n",
    "        # Check if the file is an image\n",
    "    if filename.endswith('.jpg') or filename.endswith('.png') or filename.endswith('.jpeg'):\n",
    "            # Load the image using OpenCV\n",
    "            \n",
    "            try:\n",
    "                    img = cv2.imread(os.path.join(path_to_folder, filename))\n",
    "                    resized_img = cv2.resize(img, (224, 224))\n",
    "                    normalized_img = resized_img / 255.0\n",
    "\n",
    "                        # Add the image to the list\n",
    "                    X.append(normalized_img)\n",
    "                    y.append(0)\n",
    "            except:       \n",
    "                \n",
    "                image_path = 'C:\\\\Users\\\\gillp\\\\Downloads\\\\deep learning\\\\traffic sign\\\\image data \\\\Construction zone sign'+str(filename)\n",
    "\n",
    "                if os.path.exists(image_path):\n",
    "                        os.remove(image_path)\n",
    "                        print(f\"Deleted {image_path}\")\n",
    "                else:\n",
    "                        print(f\"{image_path} does not exist\")\n",
    "              "
   ]
  },
  {
   "cell_type": "code",
   "execution_count": 7,
   "id": "724d01d2",
   "metadata": {},
   "outputs": [
    {
     "data": {
      "text/plain": [
       "764"
      ]
     },
     "execution_count": 7,
     "metadata": {},
     "output_type": "execute_result"
    }
   ],
   "source": [
    "len(X)"
   ]
  },
  {
   "cell_type": "code",
   "execution_count": 8,
   "id": "c2e20882",
   "metadata": {},
   "outputs": [],
   "source": [
    "y_arr = np.array(y)\n",
    "X_arr = np.array(X)"
   ]
  },
  {
   "cell_type": "code",
   "execution_count": 9,
   "id": "c8fedd06",
   "metadata": {},
   "outputs": [],
   "source": [
    "from sklearn.model_selection import train_test_split"
   ]
  },
  {
   "cell_type": "code",
   "execution_count": 10,
   "id": "752f7a9e",
   "metadata": {},
   "outputs": [],
   "source": [
    "X_train, X_test, y_train, y_test = train_test_split(X_arr, y_arr, test_size=0.2, random_state=42)"
   ]
  },
  {
   "cell_type": "code",
   "execution_count": 11,
   "id": "081a0767",
   "metadata": {},
   "outputs": [
    {
     "data": {
      "text/plain": [
       "(611, 224, 224, 3)"
      ]
     },
     "execution_count": 11,
     "metadata": {},
     "output_type": "execute_result"
    }
   ],
   "source": [
    "X_train.shape"
   ]
  },
  {
   "cell_type": "code",
   "execution_count": 12,
   "id": "cfaf4564",
   "metadata": {},
   "outputs": [],
   "source": [
    "import tensorflow as tf\n",
    "from tensorflow.keras import datasets, layers, models\n",
    "import keras\n",
    "\n",
    "from keras.models import Sequential\n",
    "from keras.layers import Dense, Conv2D, MaxPooling2D, Flatten"
   ]
  },
  {
   "cell_type": "code",
   "execution_count": 13,
   "id": "66b65a65",
   "metadata": {},
   "outputs": [],
   "source": [
    "cnn = models.Sequential([\n",
    "    #cnn\n",
    "    \n",
    "    layers.Conv2D(filters = 32, activation = 'relu', input_shape=(224,224,3),  kernel_size = (3,3)),\n",
    "    layers.MaxPooling2D((2,2)),\n",
    "    \n",
    "    layers.Conv2D(filters = 64, activation = 'relu',  kernel_size = (3,3)),\n",
    "    layers.MaxPooling2D((2,2)),\n",
    "    \n",
    "    #dense \n",
    "    \n",
    "    layers.Flatten(),\n",
    "    layers.Dense(64, activation='relu'),\n",
    "    layers.Dense(10, activation='softmax'),\n",
    "    \n",
    "])"
   ]
  },
  {
   "cell_type": "code",
   "execution_count": 14,
   "id": "768c890f",
   "metadata": {},
   "outputs": [],
   "source": [
    "cnn.compile(optimizer='adam',\n",
    "              loss='sparse_categorical_crossentropy',\n",
    "              metrics=['accuracy'])\n"
   ]
  },
  {
   "cell_type": "code",
   "execution_count": 15,
   "id": "4ae84c53",
   "metadata": {},
   "outputs": [
    {
     "name": "stdout",
     "output_type": "stream",
     "text": [
      "Epoch 1/10\n",
      "20/20 [==============================] - 10s 442ms/step - loss: 2.3839 - accuracy: 0.5074\n",
      "Epoch 2/10\n",
      "20/20 [==============================] - 9s 454ms/step - loss: 0.6034 - accuracy: 0.7234\n",
      "Epoch 3/10\n",
      "20/20 [==============================] - 8s 418ms/step - loss: 0.3890 - accuracy: 0.8249\n",
      "Epoch 4/10\n",
      "20/20 [==============================] - 8s 412ms/step - loss: 0.3343 - accuracy: 0.8494\n",
      "Epoch 5/10\n",
      "20/20 [==============================] - 8s 412ms/step - loss: 0.2333 - accuracy: 0.9116\n",
      "Epoch 6/10\n",
      "20/20 [==============================] - 8s 415ms/step - loss: 0.1489 - accuracy: 0.9542\n",
      "Epoch 7/10\n",
      "20/20 [==============================] - 9s 440ms/step - loss: 0.0772 - accuracy: 0.9820\n",
      "Epoch 8/10\n",
      "20/20 [==============================] - 9s 434ms/step - loss: 0.0476 - accuracy: 0.9885\n",
      "Epoch 9/10\n",
      "20/20 [==============================] - 9s 474ms/step - loss: 0.0252 - accuracy: 0.9967\n",
      "Epoch 10/10\n",
      "20/20 [==============================] - 9s 430ms/step - loss: 0.0194 - accuracy: 0.9984\n"
     ]
    },
    {
     "data": {
      "text/plain": [
       "<keras.callbacks.History at 0x21bf3bc21c0>"
      ]
     },
     "execution_count": 15,
     "metadata": {},
     "output_type": "execute_result"
    }
   ],
   "source": [
    "cnn.fit(X_train,y_train,epochs=10)"
   ]
  },
  {
   "cell_type": "code",
   "execution_count": 54,
   "id": "54080a57",
   "metadata": {},
   "outputs": [
    {
     "name": "stdout",
     "output_type": "stream",
     "text": [
      "5/5 [==============================] - 1s 131ms/step - loss: 0.5378 - accuracy: 0.8105\n"
     ]
    },
    {
     "data": {
      "text/plain": [
       "[0.5378035306930542, 0.8104575276374817]"
      ]
     },
     "execution_count": 54,
     "metadata": {},
     "output_type": "execute_result"
    }
   ],
   "source": [
    "cnn.evaluate(X_test, y_test)"
   ]
  },
  {
   "cell_type": "code",
   "execution_count": 17,
   "id": "556bbcf3",
   "metadata": {},
   "outputs": [],
   "source": [
    "def plot_sample(X, y, index):\n",
    "    plt.figure(figsize = (15,2))\n",
    "    plt.imshow(X[index])\n",
    "    plt.xlabel([y[index]])"
   ]
  },
  {
   "cell_type": "code",
   "execution_count": 18,
   "id": "b82acbe5",
   "metadata": {},
   "outputs": [
    {
     "data": {
      "image/png": "[encoded data removed]",
      "text/plain": [
       "<Figure size 1500x200 with 1 Axes>"
      ]
     },
     "metadata": {},
     "output_type": "display_data"
    }
   ],
   "source": [
    "plot_sample(X_test, y_test,5)\n"
   ]
  },
  {
   "cell_type": "code",
   "execution_count": 19,
   "id": "e7895bf0",
   "metadata": {},
   "outputs": [
    {
     "name": "stdout",
     "output_type": "stream",
     "text": [
      "Classification Report: \n",
      "               precision    recall  f1-score   support\n",
      "\n",
      "           0       0.91      0.62      0.73        65\n",
      "           1       0.77      0.95      0.85        88\n",
      "\n",
      "    accuracy                           0.81       153\n",
      "   macro avg       0.84      0.78      0.79       153\n",
      "weighted avg       0.83      0.81      0.80       153\n",
      "\n"
     ]
    }
   ],
   "source": [
    "from sklearn.metrics import confusion_matrix , classification_report\n",
    "import numpy as np\n",
    "y_pred = cnn.predict(X_test)\n",
    "y_pred_classes = [np.argmax(element) for element in y_pred]\n",
    "\n",
    "print(\"Classification Report: \\n\", classification_report(y_test, y_pred_classes))"
   ]
  },
  {
   "cell_type": "code",
   "execution_count": null,
   "id": "15d42de7",
   "metadata": {},
   "outputs": [],
   "source": [
    "model = cnn\n",
    "import os\n",
    "from PIL import Image\n",
    "import shutil\n",
    "\n",
    "# Define the directory containing the images to classify\n",
    "path_to_folder = 'C:\\\\Users\\\\gillp\\\\Downloads\\\\deep learning\\\\traffic sign\\\\image data\\\\random'\n",
    "\n",
    "# Loop over each image in the directory\n",
    "for filename in os.listdir(path_to_folder):\n",
    "        # Check if the file is an image\n",
    "    if filename.endswith('.jpg') or filename.endswith('.png') or filename.endswith('.jpeg'):\n",
    "            # Load the image using OpenCV\n",
    "       # try:\n",
    "            \n",
    "                #count = count+1\n",
    "                img = cv2.imread(os.path.join(path_to_folder, filename))\n",
    "\n",
    "                resized_img = cv2.resize(img, (224, 224))\n",
    "                img_array = np.array(resized_img)\n",
    "                normalized_img = img_array / 255.0\n",
    "                img_end = np.expand_dims(normalized_img, axis=0)\n",
    "\n",
    "\n",
    "\n",
    "                # Classify the image and store the result\n",
    "\n",
    "                y_pred = model.predict(img_end)\n",
    "                y_pred_classes = [np.argmax(element) for element in y_pred]\n",
    "\n",
    "                # Traceback the original filename of the image\n",
    "                print(y_pred_classes)\n",
    "                print(f\"Original filename: {filename}, Classification result: {y_pred_classes}\")\n",
    "                if(y_pred_classes[0] == 0):\n",
    "\n",
    "                        image_path = 'C:\\\\Users\\\\gillp\\\\Downloads\\\\deep learning\\\\traffic sign\\\\image data\\\\random\\\\'+str(filename)\n",
    "                        new_location = 'C:\\\\Users\\\\gillp\\\\Downloads\\\\deep learning\\\\traffic sign\\\\image data\\\\test const image\\\\'+str(filename)\n",
    "\n",
    "                        shutil.move(image_path, new_location)\n",
    "\n",
    "      #  except:\n",
    "                               \n",
    "                \n",
    "                        image_path = 'C:\\\\Users\\\\gillp\\\\Downloads\\\\deep learning\\\\traffic sign\\\\image data\\\\random\\\\'+str(filename)\n",
    "\n",
    "                        if os.path.exists(image_path):\n",
    "                            os.remove(image_path)\n",
    "                            print(f\"Deleted {image_path}\")\n",
    "                        else:\n",
    "                            print(f\"{image_path} does not exist\")\n",
    "                \n"
   ]
  },
  {
   "cell_type": "code",
   "execution_count": null,
   "id": "b480548f",
   "metadata": {},
   "outputs": [],
   "source": [
    "import numpy as np\n",
    "import cv2\n",
    "\n",
    "import PIL.Image as Image\n",
    "import os\n",
    "\n",
    "import matplotlib.pylab as plt\n",
    "\n",
    "import tensorflow as tf\n",
    "import tensorflow_hub as hub\n",
    "\n",
    "from tensorflow import keras\n",
    "from tensorflow.keras import layers\n",
    "from tensorflow.keras.models import Sequential"
   ]
  },
  {
   "cell_type": "code",
   "execution_count": 30,
   "id": "b7b082de",
   "metadata": {},
   "outputs": [],
   "source": [
    "model1 = cnn"
   ]
  },
  {
   "cell_type": "code",
   "execution_count": 26,
   "id": "57a01079",
   "metadata": {},
   "outputs": [],
   "source": [
    "img = plt.imread('1-1.jpg')\n",
    "img = cv2.resize(img, (224, 224))\n",
    "img = np.array(img)\n",
    "img = img / 255.0\n",
    "img = img.reshape((1, img.shape[0], img.shape[1], img.shape[2]))\n",
    "\n",
    "# Predict the class of the test image\n",
    "predictions = model.predict(img)\n",
    "class_index = np.argmax(predictions)\n",
    "confidence_scores = predictions\n",
    "probabilities = np.exp(confidence_scores) / np.sum(np.exp(confidence_scores))\n",
    "\n",
    "\n",
    "\n",
    "#if (probabilities[0][0] < 0.6) & (probabilities[0][1] < 0.6 ):\n",
    "  #  print(\"no class\")\n"
   ]
  },
  {
   "cell_type": "code",
   "execution_count": 44,
   "id": "dbfe3060",
   "metadata": {},
   "outputs": [],
   "source": [
    "import tensorflow as tf\n",
    "from tensorflow.keras.applications import MobileNet"
   ]
  },
  {
   "cell_type": "code",
   "execution_count": 56,
   "id": "2d75f02e",
   "metadata": {},
   "outputs": [],
   "source": [
    "img_width, img_height = 224, 224\n",
    "num_epochs = 10\n",
    "batch_size = 32\n",
    "num_classes = 1"
   ]
  },
  {
   "cell_type": "code",
   "execution_count": 46,
   "id": "571b60fd",
   "metadata": {},
   "outputs": [],
   "source": [
    "base_modelmodel = MobileNet(input_shape=(224, 224, 3), include_top=False, weights='imagenet')"
   ]
  },
  {
   "cell_type": "code",
   "execution_count": 57,
   "id": "ddf75097",
   "metadata": {},
   "outputs": [],
   "source": [
    "from keras.layers import Dense, GlobalAveragePooling2D\n",
    "\n",
    "x = base_model.output\n",
    "x = GlobalAveragePooling2D()(x)\n",
    "x = Dense(128, activation='relu')(x)\n",
    "predictions = Dense(num_classes, activation='softmax')(x)"
   ]
  },
  {
   "cell_type": "code",
   "execution_count": 58,
   "id": "39fa1c47",
   "metadata": {},
   "outputs": [],
   "source": [
    "model = tf.keras.models.Model(inputs=base_model.input, outputs=predictions)"
   ]
  },
  {
   "cell_type": "code",
   "execution_count": 59,
   "id": "65378ab7",
   "metadata": {},
   "outputs": [
    {
     "name": "stdout",
     "output_type": "stream",
     "text": [
      "Model: \"model_2\"\n",
      "_________________________________________________________________\n",
      " Layer (type)                Output Shape              Param #   \n",
      "=================================================================\n",
      " input_1 (InputLayer)        [(None, 224, 224, 3)]     0         \n",
      "                                                                 \n",
      " conv1 (Conv2D)              (None, 112, 112, 32)      864       \n",
      "                                                                 \n",
      " conv1_bn (BatchNormalizatio  (None, 112, 112, 32)     128       \n",
      " n)                                                              \n",
      "                                                                 \n",
      " conv1_relu (ReLU)           (None, 112, 112, 32)      0         \n",
      "                                                                 \n",
      " conv_dw_1 (DepthwiseConv2D)  (None, 112, 112, 32)     288       \n",
      "                                                                 \n",
      " conv_dw_1_bn (BatchNormaliz  (None, 112, 112, 32)     128       \n",
      " ation)                                                          \n",
      "                                                                 \n",
      " conv_dw_1_relu (ReLU)       (None, 112, 112, 32)      0         \n",
      "                                                                 \n",
      " conv_pw_1 (Conv2D)          (None, 112, 112, 64)      2048      \n",
      "                                                                 \n",
      " conv_pw_1_bn (BatchNormaliz  (None, 112, 112, 64)     256       \n",
      " ation)                                                          \n",
      "                                                                 \n",
      " conv_pw_1_relu (ReLU)       (None, 112, 112, 64)      0         \n",
      "                                                                 \n",
      " conv_pad_2 (ZeroPadding2D)  (None, 113, 113, 64)      0         \n",
      "                                                                 \n",
      " conv_dw_2 (DepthwiseConv2D)  (None, 56, 56, 64)       576       \n",
      "                                                                 \n",
      " conv_dw_2_bn (BatchNormaliz  (None, 56, 56, 64)       256       \n",
      " ation)                                                          \n",
      "                                                                 \n",
      " conv_dw_2_relu (ReLU)       (None, 56, 56, 64)        0         \n",
      "                                                                 \n",
      " conv_pw_2 (Conv2D)          (None, 56, 56, 128)       8192      \n",
      "                                                                 \n",
      " conv_pw_2_bn (BatchNormaliz  (None, 56, 56, 128)      512       \n",
      " ation)                                                          \n",
      "                                                                 \n",
      " conv_pw_2_relu (ReLU)       (None, 56, 56, 128)       0         \n",
      "                                                                 \n",
      " conv_dw_3 (DepthwiseConv2D)  (None, 56, 56, 128)      1152      \n",
      "                                                                 \n",
      " conv_dw_3_bn (BatchNormaliz  (None, 56, 56, 128)      512       \n",
      " ation)                                                          \n",
      "                                                                 \n",
      " conv_dw_3_relu (ReLU)       (None, 56, 56, 128)       0         \n",
      "                                                                 \n",
      " conv_pw_3 (Conv2D)          (None, 56, 56, 128)       16384     \n",
      "                                                                 \n",
      " conv_pw_3_bn (BatchNormaliz  (None, 56, 56, 128)      512       \n",
      " ation)                                                          \n",
      "                                                                 \n",
      " conv_pw_3_relu (ReLU)       (None, 56, 56, 128)       0         \n",
      "                                                                 \n",
      " conv_pad_4 (ZeroPadding2D)  (None, 57, 57, 128)       0         \n",
      "                                                                 \n",
      " conv_dw_4 (DepthwiseConv2D)  (None, 28, 28, 128)      1152      \n",
      "                                                                 \n",
      " conv_dw_4_bn (BatchNormaliz  (None, 28, 28, 128)      512       \n",
      " ation)                                                          \n",
      "                                                                 \n",
      " conv_dw_4_relu (ReLU)       (None, 28, 28, 128)       0         \n",
      "                                                                 \n",
      " conv_pw_4 (Conv2D)          (None, 28, 28, 256)       32768     \n",
      "                                                                 \n",
      " conv_pw_4_bn (BatchNormaliz  (None, 28, 28, 256)      1024      \n",
      " ation)                                                          \n",
      "                                                                 \n",
      " conv_pw_4_relu (ReLU)       (None, 28, 28, 256)       0         \n",
      "                                                                 \n",
      " conv_dw_5 (DepthwiseConv2D)  (None, 28, 28, 256)      2304      \n",
      "                                                                 \n",
      " conv_dw_5_bn (BatchNormaliz  (None, 28, 28, 256)      1024      \n",
      " ation)                                                          \n",
      "                                                                 \n",
      " conv_dw_5_relu (ReLU)       (None, 28, 28, 256)       0         \n",
      "                                                                 \n",
      " conv_pw_5 (Conv2D)          (None, 28, 28, 256)       65536     \n",
      "                                                                 \n",
      " conv_pw_5_bn (BatchNormaliz  (None, 28, 28, 256)      1024      \n",
      " ation)                                                          \n",
      "                                                                 \n",
      " conv_pw_5_relu (ReLU)       (None, 28, 28, 256)       0         \n",
      "                                                                 \n",
      " conv_pad_6 (ZeroPadding2D)  (None, 29, 29, 256)       0         \n",
      "                                                                 \n",
      " conv_dw_6 (DepthwiseConv2D)  (None, 14, 14, 256)      2304      \n",
      "                                                                 \n",
      " conv_dw_6_bn (BatchNormaliz  (None, 14, 14, 256)      1024      \n",
      " ation)                                                          \n",
      "                                                                 \n",
      " conv_dw_6_relu (ReLU)       (None, 14, 14, 256)       0         \n",
      "                                                                 \n",
      " conv_pw_6 (Conv2D)          (None, 14, 14, 512)       131072    \n",
      "                                                                 \n",
      " conv_pw_6_bn (BatchNormaliz  (None, 14, 14, 512)      2048      \n",
      " ation)                                                          \n",
      "                                                                 \n",
      " conv_pw_6_relu (ReLU)       (None, 14, 14, 512)       0         \n",
      "                                                                 \n",
      " conv_dw_7 (DepthwiseConv2D)  (None, 14, 14, 512)      4608      \n",
      "                                                                 \n",
      " conv_dw_7_bn (BatchNormaliz  (None, 14, 14, 512)      2048      \n",
      " ation)                                                          \n",
      "                                                                 \n",
      " conv_dw_7_relu (ReLU)       (None, 14, 14, 512)       0         \n",
      "                                                                 \n",
      " conv_pw_7 (Conv2D)          (None, 14, 14, 512)       262144    \n",
      "                                                                 \n",
      " conv_pw_7_bn (BatchNormaliz  (None, 14, 14, 512)      2048      \n",
      " ation)                                                          \n",
      "                                                                 \n",
      " conv_pw_7_relu (ReLU)       (None, 14, 14, 512)       0         \n",
      "                                                                 \n",
      " conv_dw_8 (DepthwiseConv2D)  (None, 14, 14, 512)      4608      \n",
      "                                                                 \n",
      " conv_dw_8_bn (BatchNormaliz  (None, 14, 14, 512)      2048      \n",
      " ation)                                                          \n",
      "                                                                 \n",
      " conv_dw_8_relu (ReLU)       (None, 14, 14, 512)       0         \n",
      "                                                                 \n",
      " conv_pw_8 (Conv2D)          (None, 14, 14, 512)       262144    \n"
     ]
    },
    {
     "name": "stdout",
     "output_type": "stream",
     "text": [
      "                                                                 \n",
      " conv_pw_8_bn (BatchNormaliz  (None, 14, 14, 512)      2048      \n",
      " ation)                                                          \n",
      "                                                                 \n",
      " conv_pw_8_relu (ReLU)       (None, 14, 14, 512)       0         \n",
      "                                                                 \n",
      " conv_dw_9 (DepthwiseConv2D)  (None, 14, 14, 512)      4608      \n",
      "                                                                 \n",
      " conv_dw_9_bn (BatchNormaliz  (None, 14, 14, 512)      2048      \n",
      " ation)                                                          \n",
      "                                                                 \n",
      " conv_dw_9_relu (ReLU)       (None, 14, 14, 512)       0         \n",
      "                                                                 \n",
      " conv_pw_9 (Conv2D)          (None, 14, 14, 512)       262144    \n",
      "                                                                 \n",
      " conv_pw_9_bn (BatchNormaliz  (None, 14, 14, 512)      2048      \n",
      " ation)                                                          \n",
      "                                                                 \n",
      " conv_pw_9_relu (ReLU)       (None, 14, 14, 512)       0         \n",
      "                                                                 \n",
      " conv_dw_10 (DepthwiseConv2D  (None, 14, 14, 512)      4608      \n",
      " )                                                               \n",
      "                                                                 \n",
      " conv_dw_10_bn (BatchNormali  (None, 14, 14, 512)      2048      \n",
      " zation)                                                         \n",
      "                                                                 \n",
      " conv_dw_10_relu (ReLU)      (None, 14, 14, 512)       0         \n",
      "                                                                 \n",
      " conv_pw_10 (Conv2D)         (None, 14, 14, 512)       262144    \n",
      "                                                                 \n",
      " conv_pw_10_bn (BatchNormali  (None, 14, 14, 512)      2048      \n",
      " zation)                                                         \n",
      "                                                                 \n",
      " conv_pw_10_relu (ReLU)      (None, 14, 14, 512)       0         \n",
      "                                                                 \n",
      " conv_dw_11 (DepthwiseConv2D  (None, 14, 14, 512)      4608      \n",
      " )                                                               \n",
      "                                                                 \n",
      " conv_dw_11_bn (BatchNormali  (None, 14, 14, 512)      2048      \n",
      " zation)                                                         \n",
      "                                                                 \n",
      " conv_dw_11_relu (ReLU)      (None, 14, 14, 512)       0         \n",
      "                                                                 \n",
      " conv_pw_11 (Conv2D)         (None, 14, 14, 512)       262144    \n",
      "                                                                 \n",
      " conv_pw_11_bn (BatchNormali  (None, 14, 14, 512)      2048      \n",
      " zation)                                                         \n",
      "                                                                 \n",
      " conv_pw_11_relu (ReLU)      (None, 14, 14, 512)       0         \n",
      "                                                                 \n",
      " conv_pad_12 (ZeroPadding2D)  (None, 15, 15, 512)      0         \n",
      "                                                                 \n",
      " conv_dw_12 (DepthwiseConv2D  (None, 7, 7, 512)        4608      \n",
      " )                                                               \n",
      "                                                                 \n",
      " conv_dw_12_bn (BatchNormali  (None, 7, 7, 512)        2048      \n",
      " zation)                                                         \n",
      "                                                                 \n",
      " conv_dw_12_relu (ReLU)      (None, 7, 7, 512)         0         \n",
      "                                                                 \n",
      " conv_pw_12 (Conv2D)         (None, 7, 7, 1024)        524288    \n",
      "                                                                 \n",
      " conv_pw_12_bn (BatchNormali  (None, 7, 7, 1024)       4096      \n",
      " zation)                                                         \n",
      "                                                                 \n",
      " conv_pw_12_relu (ReLU)      (None, 7, 7, 1024)        0         \n",
      "                                                                 \n",
      " conv_dw_13 (DepthwiseConv2D  (None, 7, 7, 1024)       9216      \n",
      " )                                                               \n",
      "                                                                 \n",
      " conv_dw_13_bn (BatchNormali  (None, 7, 7, 1024)       4096      \n",
      " zation)                                                         \n",
      "                                                                 \n",
      " conv_dw_13_relu (ReLU)      (None, 7, 7, 1024)        0         \n",
      "                                                                 \n",
      " conv_pw_13 (Conv2D)         (None, 7, 7, 1024)        1048576   \n",
      "                                                                 \n",
      " conv_pw_13_bn (BatchNormali  (None, 7, 7, 1024)       4096      \n",
      " zation)                                                         \n",
      "                                                                 \n",
      " conv_pw_13_relu (ReLU)      (None, 7, 7, 1024)        0         \n",
      "                                                                 \n",
      " global_average_pooling2d_5   (None, 1024)             0         \n",
      " (GlobalAveragePooling2D)                                        \n",
      "                                                                 \n",
      " dense_12 (Dense)            (None, 128)               131200    \n",
      "                                                                 \n",
      " dense_13 (Dense)            (None, 1)                 129       \n",
      "                                                                 \n",
      "=================================================================\n",
      "Total params: 3,360,193\n",
      "Trainable params: 3,338,305\n",
      "Non-trainable params: 21,888\n",
      "_________________________________________________________________\n"
     ]
    }
   ],
   "source": [
    "model.summary()"
   ]
  },
  {
   "cell_type": "code",
   "execution_count": 60,
   "id": "cb58d69e",
   "metadata": {},
   "outputs": [],
   "source": [
    "model.compile(optimizer=\"adam\", loss='categorical_crossentropy', metrics=['accuracy'])"
   ]
  },
  {
   "cell_type": "code",
   "execution_count": 61,
   "id": "611e0442",
   "metadata": {},
   "outputs": [
    {
     "name": "stdout",
     "output_type": "stream",
     "text": [
      "Epoch 1/5\n",
      "20/20 [==============================] - 25s 1s/step - loss: 0.0000e+00 - accuracy: 0.5679\n",
      "Epoch 2/5\n",
      "20/20 [==============================] - 22s 1s/step - loss: 0.0000e+00 - accuracy: 0.5679\n",
      "Epoch 3/5\n",
      "20/20 [==============================] - 22s 1s/step - loss: 0.0000e+00 - accuracy: 0.5679\n",
      "Epoch 4/5\n",
      "20/20 [==============================] - 22s 1s/step - loss: 0.0000e+00 - accuracy: 0.5679\n",
      "Epoch 5/5\n",
      "20/20 [==============================] - 21s 1s/step - loss: 0.0000e+00 - accuracy: 0.5679\n"
     ]
    },
    {
     "data": {
      "text/plain": [
       "<keras.callbacks.History at 0x21bed1a9e50>"
      ]
     },
     "execution_count": 61,
     "metadata": {},
     "output_type": "execute_result"
    }
   ],
   "source": [
    "model.fit(X_train, y_train, epochs=5)"
   ]
  },
  {
   "cell_type": "code",
   "execution_count": null,
   "id": "0943439d",
   "metadata": {},
   "outputs": [],
   "source": []
  },
  {
   "cell_type": "code",
   "execution_count": 23,
   "id": "9dd18231",
   "metadata": {},
   "outputs": [
    {
     "data": {
      "text/plain": [
       "1"
      ]
     },
     "execution_count": 23,
     "metadata": {},
     "output_type": "execute_result"
    }
   ],
   "source": [
    "class_index"
   ]
  },
  {
   "cell_type": "code",
   "execution_count": 24,
   "id": "c798e8c7",
   "metadata": {},
   "outputs": [
    {
     "data": {
      "text/plain": [
       "array([[1.1071777e-01, 8.8928223e-01, 9.4942852e-11, 8.3677145e-09,\n",
       "        4.7341509e-13, 6.5425436e-11, 1.8267966e-10, 5.0600149e-12,\n",
       "        1.9598694e-11, 1.7503169e-11]], dtype=float32)"
      ]
     },
     "execution_count": 24,
     "metadata": {},
     "output_type": "execute_result"
    }
   ],
   "source": [
    "predictions"
   ]
  },
  {
   "cell_type": "code",
   "execution_count": 25,
   "id": "a41c49c0",
   "metadata": {},
   "outputs": [
    {
     "name": "stdout",
     "output_type": "stream",
     "text": [
      "[[0.09671298 0.21067403 0.08657662 0.08657662 0.08657662 0.08657662\n",
      "  0.08657662 0.08657662 0.08657662 0.08657662]]\n"
     ]
    }
   ],
   "source": [
    "confidence_scores = predictions\n",
    "# apply softmax function to obtain probabilities\n",
    "probabilities = np.exp(confidence_scores) / np.sum(np.exp(confidence_scores))\n",
    "\n",
    "print(probabilities)"
   ]
  }
 ],
 "metadata": {
  "kernelspec": {
   "display_name": "Python 3 (ipykernel)",
   "language": "python",
   "name": "python3"
  },
  "language_info": {
   "codemirror_mode": {
    "name": "ipython",
    "version": 3
   },
   "file_extension": ".py",
   "mimetype": "text/x-python",
   "name": "python",
   "nbconvert_exporter": "python",
   "pygments_lexer": "ipython3",
   "version": "3.9.16"
  }
 },
 "nbformat": 4,
 "nbformat_minor": 5
}
